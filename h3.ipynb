{
 "cells": [
  {
   "cell_type": "markdown",
   "metadata": {},
   "source": [
    "# ```H3``` Tutorial #\n",
    "\n",
    "### What is ```H3```? ###\n",
    "```H3``` is a geospatial indexing system that partitions the world into hexagonal cells. ```H3``` includes functions for converting from latitude/longitude coordinates to hexagonal cells (at different resolutions), finding their centers, boundary geometry, neighbors, etc.\n",
    "\n",
    "### Instalation ###\n",
    "```H3``` can be installed via ```pip3 install h3```. We'll use version ```3.x``` (despite version ```4.x``` being available). \n",
    "\n",
    "### Terminology ###\n",
    "- ```H3Index```: are 15/16-character hexadecimal strings and can represent any ```H3``` object (hexagon, pentagon, directed edge, ...);\n",
    "- ```Cell```: a geometric/geographic unit polygon in the ```H3``` grid (corresponding to an ```H3Index```) with a given ```resolution```;\n",
    "- ```Directed Edge```: represents an edge that allows encoding (we can define which cell is the origin and which is the destination);\n",
    "- ```Grid```: graph with nodes corresponding to ```Cells``` and ```Edges``` given by pairs of adjacent ```Cells```;\n",
    "- ```Lat/Lng Point```: representation of a geographic point;\n",
    "\n",
    "### Resolution ###\n",
    "```Resolution``` define the size of ```Cells```. There are always exactly 12 pentagons at every resolution.\n",
    "\n",
    "| Resolution | Total number of cells | Number of hexagons  | Number of pentagons |\n",
    "|------------|-----------------------|---------------------|---------------------|\n",
    "| 0          | 122                   | 110                 | 12                  |\n",
    "| 1          | 842                   | 830                 | 12                  |\n",
    "| 2          | 5,882                 | 5,870               | 12                  |\n",
    "| 3          | 41,162                | 41,150              | 12                  |\n",
    "| 4          | 288,122               | 288,110             | 12                  |\n",
    "| 5          | 2,016,842             | 2,016,830           | 12                  |\n",
    "| 6          | 14,117,882            | 14,117,870          | 12                  |\n",
    "| 7          | 98,825,162            | 98,825,150          | 12                  |\n",
    "| 8          | 691,776,122           | 691,776,110         | 12                  |\n",
    "| 9          | 4,842,432,842         | 4,842,432,830       | 12                  |\n",
    "| 10         | 33,897,029,882        | 33,897,029,870      | 12                  |\n",
    "| 11         | 237,279,209,162       | 237,279,209,150     | 12                  |\n",
    "| 12         | 1,660,954,464,122     | 1,660,954,464,110   | 12                  |\n",
    "| 13         | 11,626,681,248,842    | 11,626,681,248,830  | 12                  |\n",
    "| 14         | 81,386,768,741,882    | 81,386,768,741,870  | 12                  |\n",
    "| 15         | 569,707,381,193,162   | 569,707,381,193,150 | 12                  |\n",
    "\n",
    "### Documentation ###\n",
    "- H3 Documentation - [Link](https://h3geo.org/docs/api/indexing);\n",
    "- H3 Notebooks - [Link](https://nbviewer.org/github/uber/h3-py-notebooks/tree/master/notebooks/);\n",
    "- H3 Analysis - [Link](https://towardsdatascience.com/uber-h3-for-data-analysis-with-python-1e54acdcc908);\n",
    "\n",
    "---"
   ]
  },
  {
   "cell_type": "markdown",
   "metadata": {},
   "source": [
    "### Importing Dependencies ###"
   ]
  },
  {
   "cell_type": "code",
   "execution_count": 23,
   "metadata": {},
   "outputs": [],
   "source": [
    "import yaml\n",
    "import json\n",
    "import pandas as pd\n",
    "\n",
    "import folium\n",
    "from h3 import h3"
   ]
  },
  {
   "cell_type": "markdown",
   "metadata": {},
   "source": [
    "### User-Defined Functions ###"
   ]
  },
  {
   "cell_type": "code",
   "execution_count": 31,
   "metadata": {},
   "outputs": [],
   "source": [
    "def build_folium_map(): # Creates 'vanilla' default tile map\n",
    "    fmap = folium.Map(location= (-22.9725, -43.2116), # 'location': center's lat/lng\n",
    "                    width= \"100%\", height=\"100%\", # 'width'/'height': width/height of the map\n",
    "                    tiles= \"cartodb positron\", # 'tiles': map tileset (if custom URL, 'attr' is required)\n",
    "                    zoom_start= 14) # 'zoom_start': initial zoom level\n",
    "    return fmap"
   ]
  },
  {
   "cell_type": "markdown",
   "metadata": {},
   "source": [
    "### Main ###"
   ]
  },
  {
   "cell_type": "code",
   "execution_count": 24,
   "metadata": {},
   "outputs": [],
   "source": [
    "# Reading the YAML config\n",
    "with open(\"./h3.yaml\", \"r\") as _stream:\n",
    "    yaml_config = yaml.safe_load(_stream)"
   ]
  },
  {
   "cell_type": "markdown",
   "metadata": {},
   "source": [
    "**Indexing**: used for finding ```Cell``` index containing coordinates (as well as its center and boundary);"
   ]
  },
  {
   "cell_type": "code",
   "execution_count": 18,
   "metadata": {},
   "outputs": [
    {
     "data": {
      "text/plain": [
       "'89a8a078dcbffff'"
      ]
     },
     "execution_count": 18,
     "metadata": {},
     "output_type": "execute_result"
    }
   ],
   "source": [
    "# 'geo_to_h3(lat, lng, resolution)': indexes location ('lat'/'lng') at given 'resolution' and returns Cell\n",
    "h3.geo_to_h3(-22.971455797974922, -43.21058220306561, 9)"
   ]
  },
  {
   "cell_type": "code",
   "execution_count": 26,
   "metadata": {},
   "outputs": [
    {
     "data": {
      "text/plain": [
       "(-22.97137349189261, -43.20978079691002)"
      ]
     },
     "execution_count": 26,
     "metadata": {},
     "output_type": "execute_result"
    }
   ],
   "source": [
    "# 'h3_to_geo(index)': returns the center of 'index'\n",
    "h3.h3_to_geo(\"89a8a078dcbffff\")"
   ]
  },
  {
   "cell_type": "code",
   "execution_count": 63,
   "metadata": {},
   "outputs": [
    {
     "data": {
      "text/html": [
       "<div style=\"width:100%;\"><div style=\"position:relative;width:100%;height:0;padding-bottom:60%;\"><span style=\"color:#565656\">Make this Notebook Trusted to load map: File -> Trust Notebook</span><iframe srcdoc=\"&lt;!DOCTYPE html&gt;\n",
       "&lt;html&gt;\n",
       "&lt;head&gt;\n",
       "    \n",
       "    &lt;meta http-equiv=&quot;content-type&quot; content=&quot;text/html; charset=UTF-8&quot; /&gt;\n",
       "    \n",
       "        &lt;script&gt;\n",
       "            L_NO_TOUCH = false;\n",
       "            L_DISABLE_3D = false;\n",
       "        &lt;/script&gt;\n",
       "    \n",
       "    &lt;style&gt;html, body {width: 100%;height: 100%;margin: 0;padding: 0;}&lt;/style&gt;\n",
       "    &lt;style&gt;#map {position:absolute;top:0;bottom:0;right:0;left:0;}&lt;/style&gt;\n",
       "    &lt;script src=&quot;https://cdn.jsdelivr.net/npm/leaflet@1.9.3/dist/leaflet.js&quot;&gt;&lt;/script&gt;\n",
       "    &lt;script src=&quot;https://code.jquery.com/jquery-3.7.1.min.js&quot;&gt;&lt;/script&gt;\n",
       "    &lt;script src=&quot;https://cdn.jsdelivr.net/npm/bootstrap@5.2.2/dist/js/bootstrap.bundle.min.js&quot;&gt;&lt;/script&gt;\n",
       "    &lt;script src=&quot;https://cdnjs.cloudflare.com/ajax/libs/Leaflet.awesome-markers/2.0.2/leaflet.awesome-markers.js&quot;&gt;&lt;/script&gt;\n",
       "    &lt;link rel=&quot;stylesheet&quot; href=&quot;https://cdn.jsdelivr.net/npm/leaflet@1.9.3/dist/leaflet.css&quot;/&gt;\n",
       "    &lt;link rel=&quot;stylesheet&quot; href=&quot;https://cdn.jsdelivr.net/npm/bootstrap@5.2.2/dist/css/bootstrap.min.css&quot;/&gt;\n",
       "    &lt;link rel=&quot;stylesheet&quot; href=&quot;https://netdna.bootstrapcdn.com/bootstrap/3.0.0/css/bootstrap.min.css&quot;/&gt;\n",
       "    &lt;link rel=&quot;stylesheet&quot; href=&quot;https://cdn.jsdelivr.net/npm/@fortawesome/fontawesome-free@6.2.0/css/all.min.css&quot;/&gt;\n",
       "    &lt;link rel=&quot;stylesheet&quot; href=&quot;https://cdnjs.cloudflare.com/ajax/libs/Leaflet.awesome-markers/2.0.2/leaflet.awesome-markers.css&quot;/&gt;\n",
       "    &lt;link rel=&quot;stylesheet&quot; href=&quot;https://cdn.jsdelivr.net/gh/python-visualization/folium/folium/templates/leaflet.awesome.rotate.min.css&quot;/&gt;\n",
       "    \n",
       "            &lt;meta name=&quot;viewport&quot; content=&quot;width=device-width,\n",
       "                initial-scale=1.0, maximum-scale=1.0, user-scalable=no&quot; /&gt;\n",
       "            &lt;style&gt;\n",
       "                #map_e9adc700856c078f4d9c6777672c4c9c {\n",
       "                    position: relative;\n",
       "                    width: 100.0%;\n",
       "                    height: 100.0%;\n",
       "                    left: 0.0%;\n",
       "                    top: 0.0%;\n",
       "                }\n",
       "                .leaflet-container { font-size: 1rem; }\n",
       "            &lt;/style&gt;\n",
       "        \n",
       "&lt;/head&gt;\n",
       "&lt;body&gt;\n",
       "    \n",
       "    \n",
       "            &lt;div class=&quot;folium-map&quot; id=&quot;map_e9adc700856c078f4d9c6777672c4c9c&quot; &gt;&lt;/div&gt;\n",
       "        \n",
       "&lt;/body&gt;\n",
       "&lt;script&gt;\n",
       "    \n",
       "    \n",
       "            var map_e9adc700856c078f4d9c6777672c4c9c = L.map(\n",
       "                &quot;map_e9adc700856c078f4d9c6777672c4c9c&quot;,\n",
       "                {\n",
       "                    center: [-22.9725, -43.2116],\n",
       "                    crs: L.CRS.EPSG3857,\n",
       "                    zoom: 14,\n",
       "                    zoomControl: true,\n",
       "                    preferCanvas: false,\n",
       "                }\n",
       "            );\n",
       "\n",
       "            \n",
       "\n",
       "        \n",
       "    \n",
       "            var tile_layer_cbae2a8ce68661c5c72815d61d8e029b = L.tileLayer(\n",
       "                &quot;https://{s}.basemaps.cartocdn.com/light_all/{z}/{x}/{y}{r}.png&quot;,\n",
       "                {&quot;attribution&quot;: &quot;\\u0026copy; \\u003ca href=\\&quot;https://www.openstreetmap.org/copyright\\&quot;\\u003eOpenStreetMap\\u003c/a\\u003e contributors \\u0026copy; \\u003ca href=\\&quot;https://carto.com/attributions\\&quot;\\u003eCARTO\\u003c/a\\u003e&quot;, &quot;detectRetina&quot;: false, &quot;maxNativeZoom&quot;: 20, &quot;maxZoom&quot;: 20, &quot;minZoom&quot;: 0, &quot;noWrap&quot;: false, &quot;opacity&quot;: 1, &quot;subdomains&quot;: &quot;abcd&quot;, &quot;tms&quot;: false}\n",
       "            );\n",
       "        \n",
       "    \n",
       "            tile_layer_cbae2a8ce68661c5c72815d61d8e029b.addTo(map_e9adc700856c078f4d9c6777672c4c9c);\n",
       "        \n",
       "    \n",
       "            var polygon_4184279783c1a24bc01cff2416b70010 = L.polygon(\n",
       "                [[-22.972947639787666, -43.20879376843861], [-22.97142316141184, -43.207732675863696], [-22.969848992095596, -43.20871970532902], [-22.96979931013377, -43.210767819793915], [-22.971323796108805, -43.211828914698835], [-22.972897956446435, -43.21084189281019]],\n",
       "                {&quot;bubblingMouseEvents&quot;: true, &quot;color&quot;: &quot;blue&quot;, &quot;dashArray&quot;: null, &quot;dashOffset&quot;: null, &quot;fill&quot;: true, &quot;fillColor&quot;: &quot;blue&quot;, &quot;fillOpacity&quot;: 0.2, &quot;fillRule&quot;: &quot;evenodd&quot;, &quot;lineCap&quot;: &quot;round&quot;, &quot;lineJoin&quot;: &quot;round&quot;, &quot;noClip&quot;: false, &quot;opacity&quot;: 1.0, &quot;smoothFactor&quot;: 1.0, &quot;stroke&quot;: true, &quot;weight&quot;: 3}\n",
       "            ).addTo(map_e9adc700856c078f4d9c6777672c4c9c);\n",
       "        \n",
       "&lt;/script&gt;\n",
       "&lt;/html&gt;\" style=\"position:absolute;width:100%;height:100%;left:0;top:0;border:none !important;\" allowfullscreen webkitallowfullscreen mozallowfullscreen></iframe></div></div>"
      ],
      "text/plain": [
       "<folium.folium.Map at 0x11313d3a0>"
      ]
     },
     "execution_count": 63,
     "metadata": {},
     "output_type": "execute_result"
    }
   ],
   "source": [
    "# Creating a default tile map\n",
    "fmap = build_folium_map()\n",
    "# 'h3_to_geo_boundary(index)': returns boundaries of 'index'\n",
    "boundary = h3.h3_to_geo_boundary(\"89a8a078dcbffff\", geo_json=False) # Important: 'geo_json' inverts lat/lng\n",
    "# Assigning to Polygon\n",
    "folium.Polygon(locations= boundary, # 'location': no need to add first point at last\n",
    "               fill= True, # 'kwargs'\n",
    "               color=\"blue\").add_to(fmap) # 'kwargs'\n",
    "fmap"
   ]
  },
  {
   "cell_type": "markdown",
   "metadata": {},
   "source": [
    "**Inspection**: provides metadata about an ```H3``` index;"
   ]
  },
  {
   "cell_type": "code",
   "execution_count": 34,
   "metadata": {},
   "outputs": [
    {
     "data": {
      "text/plain": [
       "9"
      ]
     },
     "execution_count": 34,
     "metadata": {},
     "output_type": "execute_result"
    }
   ],
   "source": [
    "# 'h3_get_resolution(index)': returns the resolution of 'index'\n",
    "h3.h3_get_resolution(\"89a8a078dcbffff\")"
   ]
  },
  {
   "cell_type": "code",
   "execution_count": 35,
   "metadata": {},
   "outputs": [
    {
     "data": {
      "text/plain": [
       "84"
      ]
     },
     "execution_count": 35,
     "metadata": {},
     "output_type": "execute_result"
    }
   ],
   "source": [
    "# 'h3_get_base_cell(index)': returns the 'index's 'Cell' number\n",
    "h3.h3_get_base_cell(\"89a8a078dcbffff\")"
   ]
  },
  {
   "cell_type": "code",
   "execution_count": 36,
   "metadata": {},
   "outputs": [
    {
     "data": {
      "text/plain": [
       "619959663765225471"
      ]
     },
     "execution_count": 36,
     "metadata": {},
     "output_type": "execute_result"
    }
   ],
   "source": [
    "# 'string_to_h3(index)': converts string 'index' representation to 'H3Index'\n",
    "h3.string_to_h3(\"89a8a078dcbffff\")"
   ]
  },
  {
   "cell_type": "code",
   "execution_count": 37,
   "metadata": {},
   "outputs": [
    {
     "data": {
      "text/plain": [
       "'89a8a078dcbffff'"
      ]
     },
     "execution_count": 37,
     "metadata": {},
     "output_type": "execute_result"
    }
   ],
   "source": [
    "# 'h3_to_string(h3_index)': converts 'H3Index' to string 'index' representation\n",
    "h3.h3_to_string(619959663765225471)"
   ]
  },
  {
   "cell_type": "code",
   "execution_count": 42,
   "metadata": {},
   "outputs": [
    {
     "data": {
      "text/plain": [
       "True"
      ]
     },
     "execution_count": 42,
     "metadata": {},
     "output_type": "execute_result"
    }
   ],
   "source": [
    "# 'h3_is_valid(index)': returns True if 'index' is valid\n",
    "h3.h3_is_valid(\"89a8a078dcbffff\")"
   ]
  },
  {
   "cell_type": "code",
   "execution_count": 43,
   "metadata": {},
   "outputs": [
    {
     "data": {
      "text/plain": [
       "False"
      ]
     },
     "execution_count": 43,
     "metadata": {},
     "output_type": "execute_result"
    }
   ],
   "source": [
    "# 'h3_is_pentagon(index)': returns True if 'index' is a pentagonal 'Cell'\n",
    "h3.h3_is_pentagon(\"89a8a078dcbffff\")"
   ]
  },
  {
   "cell_type": "code",
   "execution_count": 44,
   "metadata": {},
   "outputs": [
    {
     "data": {
      "text/plain": [
       "{8}"
      ]
     },
     "execution_count": 44,
     "metadata": {},
     "output_type": "execute_result"
    }
   ],
   "source": [
    "# 'h3_get_faces(index)': returns array with all icosahedron faces intersected by 'index'\n",
    "h3.h3_get_faces(\"89a8a078dcbffff\")"
   ]
  },
  {
   "cell_type": "markdown",
   "metadata": {},
   "source": [
    "**Traversal**: allows finding ```Cell```s in the vicinity of origin ```Cell```;"
   ]
  },
  {
   "cell_type": "code",
   "execution_count": 82,
   "metadata": {},
   "outputs": [
    {
     "data": {
      "text/html": [
       "<div style=\"width:100%;\"><div style=\"position:relative;width:100%;height:0;padding-bottom:60%;\"><span style=\"color:#565656\">Make this Notebook Trusted to load map: File -> Trust Notebook</span><iframe srcdoc=\"&lt;!DOCTYPE html&gt;\n",
       "&lt;html&gt;\n",
       "&lt;head&gt;\n",
       "    \n",
       "    &lt;meta http-equiv=&quot;content-type&quot; content=&quot;text/html; charset=UTF-8&quot; /&gt;\n",
       "    \n",
       "        &lt;script&gt;\n",
       "            L_NO_TOUCH = false;\n",
       "            L_DISABLE_3D = false;\n",
       "        &lt;/script&gt;\n",
       "    \n",
       "    &lt;style&gt;html, body {width: 100%;height: 100%;margin: 0;padding: 0;}&lt;/style&gt;\n",
       "    &lt;style&gt;#map {position:absolute;top:0;bottom:0;right:0;left:0;}&lt;/style&gt;\n",
       "    &lt;script src=&quot;https://cdn.jsdelivr.net/npm/leaflet@1.9.3/dist/leaflet.js&quot;&gt;&lt;/script&gt;\n",
       "    &lt;script src=&quot;https://code.jquery.com/jquery-3.7.1.min.js&quot;&gt;&lt;/script&gt;\n",
       "    &lt;script src=&quot;https://cdn.jsdelivr.net/npm/bootstrap@5.2.2/dist/js/bootstrap.bundle.min.js&quot;&gt;&lt;/script&gt;\n",
       "    &lt;script src=&quot;https://cdnjs.cloudflare.com/ajax/libs/Leaflet.awesome-markers/2.0.2/leaflet.awesome-markers.js&quot;&gt;&lt;/script&gt;\n",
       "    &lt;link rel=&quot;stylesheet&quot; href=&quot;https://cdn.jsdelivr.net/npm/leaflet@1.9.3/dist/leaflet.css&quot;/&gt;\n",
       "    &lt;link rel=&quot;stylesheet&quot; href=&quot;https://cdn.jsdelivr.net/npm/bootstrap@5.2.2/dist/css/bootstrap.min.css&quot;/&gt;\n",
       "    &lt;link rel=&quot;stylesheet&quot; href=&quot;https://netdna.bootstrapcdn.com/bootstrap/3.0.0/css/bootstrap.min.css&quot;/&gt;\n",
       "    &lt;link rel=&quot;stylesheet&quot; href=&quot;https://cdn.jsdelivr.net/npm/@fortawesome/fontawesome-free@6.2.0/css/all.min.css&quot;/&gt;\n",
       "    &lt;link rel=&quot;stylesheet&quot; href=&quot;https://cdnjs.cloudflare.com/ajax/libs/Leaflet.awesome-markers/2.0.2/leaflet.awesome-markers.css&quot;/&gt;\n",
       "    &lt;link rel=&quot;stylesheet&quot; href=&quot;https://cdn.jsdelivr.net/gh/python-visualization/folium/folium/templates/leaflet.awesome.rotate.min.css&quot;/&gt;\n",
       "    \n",
       "            &lt;meta name=&quot;viewport&quot; content=&quot;width=device-width,\n",
       "                initial-scale=1.0, maximum-scale=1.0, user-scalable=no&quot; /&gt;\n",
       "            &lt;style&gt;\n",
       "                #map_e4974d0b8983bd2c4d306be84edcc36a {\n",
       "                    position: relative;\n",
       "                    width: 100.0%;\n",
       "                    height: 100.0%;\n",
       "                    left: 0.0%;\n",
       "                    top: 0.0%;\n",
       "                }\n",
       "                .leaflet-container { font-size: 1rem; }\n",
       "            &lt;/style&gt;\n",
       "        \n",
       "&lt;/head&gt;\n",
       "&lt;body&gt;\n",
       "    \n",
       "    \n",
       "            &lt;div class=&quot;folium-map&quot; id=&quot;map_e4974d0b8983bd2c4d306be84edcc36a&quot; &gt;&lt;/div&gt;\n",
       "        \n",
       "&lt;/body&gt;\n",
       "&lt;script&gt;\n",
       "    \n",
       "    \n",
       "            var map_e4974d0b8983bd2c4d306be84edcc36a = L.map(\n",
       "                &quot;map_e4974d0b8983bd2c4d306be84edcc36a&quot;,\n",
       "                {\n",
       "                    center: [-22.9725, -43.2116],\n",
       "                    crs: L.CRS.EPSG3857,\n",
       "                    zoom: 14,\n",
       "                    zoomControl: true,\n",
       "                    preferCanvas: false,\n",
       "                }\n",
       "            );\n",
       "\n",
       "            \n",
       "\n",
       "        \n",
       "    \n",
       "            var tile_layer_028f63b0747cd6f986f645cb1d331638 = L.tileLayer(\n",
       "                &quot;https://{s}.basemaps.cartocdn.com/light_all/{z}/{x}/{y}{r}.png&quot;,\n",
       "                {&quot;attribution&quot;: &quot;\\u0026copy; \\u003ca href=\\&quot;https://www.openstreetmap.org/copyright\\&quot;\\u003eOpenStreetMap\\u003c/a\\u003e contributors \\u0026copy; \\u003ca href=\\&quot;https://carto.com/attributions\\&quot;\\u003eCARTO\\u003c/a\\u003e&quot;, &quot;detectRetina&quot;: false, &quot;maxNativeZoom&quot;: 20, &quot;maxZoom&quot;: 20, &quot;minZoom&quot;: 0, &quot;noWrap&quot;: false, &quot;opacity&quot;: 1, &quot;subdomains&quot;: &quot;abcd&quot;, &quot;tms&quot;: false}\n",
       "            );\n",
       "        \n",
       "    \n",
       "            tile_layer_028f63b0747cd6f986f645cb1d331638.addTo(map_e4974d0b8983bd2c4d306be84edcc36a);\n",
       "        \n",
       "    \n",
       "            var polygon_8e257373ddde5a08ab4bee64ea2a725a = L.polygon(\n",
       "                [[-22.971472804666238, -43.20568455156508], [-22.969948277229403, -43.20462346664005], [-22.968374098937396, -43.20561050367617], [-22.968324457057964, -43.207658618067846], [-22.969848992095596, -43.20871970532902], [-22.97142316141184, -43.207732675863696]],\n",
       "                {&quot;bubblingMouseEvents&quot;: true, &quot;color&quot;: &quot;blue&quot;, &quot;dashArray&quot;: null, &quot;dashOffset&quot;: null, &quot;fill&quot;: true, &quot;fillColor&quot;: &quot;blue&quot;, &quot;fillOpacity&quot;: 0.2, &quot;fillRule&quot;: &quot;evenodd&quot;, &quot;lineCap&quot;: &quot;round&quot;, &quot;lineJoin&quot;: &quot;round&quot;, &quot;noClip&quot;: false, &quot;opacity&quot;: 1.0, &quot;smoothFactor&quot;: 1.0, &quot;stroke&quot;: true, &quot;weight&quot;: 3}\n",
       "            ).addTo(map_e4974d0b8983bd2c4d306be84edcc36a);\n",
       "        \n",
       "    \n",
       "            var polygon_e25fec09a5643b0fa95e4da1c6632769 = L.polygon(\n",
       "                [[-22.971323796108805, -43.211828914698835], [-22.96979931013377, -43.210767819793915], [-22.96822509451388, -43.211754837089764], [-22.968175373849746, -43.21380294170955], [-22.969699867421557, -43.214864038938444], [-22.971274074060677, -43.2138770292249]],\n",
       "                {&quot;bubblingMouseEvents&quot;: true, &quot;color&quot;: &quot;blue&quot;, &quot;dashArray&quot;: null, &quot;dashOffset&quot;: null, &quot;fill&quot;: true, &quot;fillColor&quot;: &quot;blue&quot;, &quot;fillOpacity&quot;: 0.2, &quot;fillRule&quot;: &quot;evenodd&quot;, &quot;lineCap&quot;: &quot;round&quot;, &quot;lineJoin&quot;: &quot;round&quot;, &quot;noClip&quot;: false, &quot;opacity&quot;: 1.0, &quot;smoothFactor&quot;: 1.0, &quot;stroke&quot;: true, &quot;weight&quot;: 3}\n",
       "            ).addTo(map_e4974d0b8983bd2c4d306be84edcc36a);\n",
       "        \n",
       "    \n",
       "            var polygon_122de94f553463a16566bed627676777 = L.polygon(\n",
       "                [[-22.976046175524267, -43.20886783226898], [-22.97452175381622, -43.20780673438024], [-22.972947639787666, -43.20879376843861], [-22.972897956446435, -43.21084189281019], [-22.97442238575451, -43.211902993028794], [-22.975996490803762, -43.21091596654728]],\n",
       "                {&quot;bubblingMouseEvents&quot;: true, &quot;color&quot;: &quot;blue&quot;, &quot;dashArray&quot;: null, &quot;dashOffset&quot;: null, &quot;fill&quot;: true, &quot;fillColor&quot;: &quot;blue&quot;, &quot;fillOpacity&quot;: 0.2, &quot;fillRule&quot;: &quot;evenodd&quot;, &quot;lineCap&quot;: &quot;round&quot;, &quot;lineJoin&quot;: &quot;round&quot;, &quot;noClip&quot;: false, &quot;opacity&quot;: 1.0, &quot;smoothFactor&quot;: 1.0, &quot;stroke&quot;: true, &quot;weight&quot;: 3}\n",
       "            ).addTo(map_e4974d0b8983bd2c4d306be84edcc36a);\n",
       "        \n",
       "    \n",
       "            var polygon_272be35bc3b765d358cb98d5b7e85912 = L.polygon(\n",
       "                [[-22.972947639787666, -43.20879376843861], [-22.97142316141184, -43.207732675863696], [-22.969848992095596, -43.20871970532902], [-22.96979931013377, -43.210767819793915], [-22.971323796108805, -43.211828914698835], [-22.972897956446435, -43.21084189281019]],\n",
       "                {&quot;bubblingMouseEvents&quot;: true, &quot;color&quot;: &quot;blue&quot;, &quot;dashArray&quot;: null, &quot;dashOffset&quot;: null, &quot;fill&quot;: true, &quot;fillColor&quot;: &quot;blue&quot;, &quot;fillOpacity&quot;: 0.2, &quot;fillRule&quot;: &quot;evenodd&quot;, &quot;lineCap&quot;: &quot;round&quot;, &quot;lineJoin&quot;: &quot;round&quot;, &quot;noClip&quot;: false, &quot;opacity&quot;: 1.0, &quot;smoothFactor&quot;: 1.0, &quot;stroke&quot;: true, &quot;weight&quot;: 3}\n",
       "            ).addTo(map_e4974d0b8983bd2c4d306be84edcc36a);\n",
       "        \n",
       "    \n",
       "            var polygon_95442e7c5201871bb23d7a1583c29c31 = L.polygon(\n",
       "                [[-22.969848992095596, -43.20871970532902], [-22.968324457057964, -43.207658618067846], [-22.966750232460157, -43.20864564294014], [-22.966700551877874, -43.21069374749848], [-22.96822509451388, -43.211754837089764], [-22.96979931013377, -43.210767819793915]],\n",
       "                {&quot;bubblingMouseEvents&quot;: true, &quot;color&quot;: &quot;blue&quot;, &quot;dashArray&quot;: null, &quot;dashOffset&quot;: null, &quot;fill&quot;: true, &quot;fillColor&quot;: &quot;blue&quot;, &quot;fillOpacity&quot;: 0.2, &quot;fillRule&quot;: &quot;evenodd&quot;, &quot;lineCap&quot;: &quot;round&quot;, &quot;lineJoin&quot;: &quot;round&quot;, &quot;noClip&quot;: false, &quot;opacity&quot;: 1.0, &quot;smoothFactor&quot;: 1.0, &quot;stroke&quot;: true, &quot;weight&quot;: 3}\n",
       "            ).addTo(map_e4974d0b8983bd2c4d306be84edcc36a);\n",
       "        \n",
       "    \n",
       "            var polygon_5a2035b455f2d9bb828e0f3c2318543a = L.polygon(\n",
       "                [[-22.97442238575451, -43.211902993028794], [-22.972897956446435, -43.21084189281019], [-22.971323796108805, -43.211828914698835], [-22.971274074060677, -43.2138770292249], [-22.97279851096636, -43.214938131767354], [-22.974372662322537, -43.21395111746122]],\n",
       "                {&quot;bubblingMouseEvents&quot;: true, &quot;color&quot;: &quot;blue&quot;, &quot;dashArray&quot;: null, &quot;dashOffset&quot;: null, &quot;fill&quot;: true, &quot;fillColor&quot;: &quot;blue&quot;, &quot;fillOpacity&quot;: 0.2, &quot;fillRule&quot;: &quot;evenodd&quot;, &quot;lineCap&quot;: &quot;round&quot;, &quot;lineJoin&quot;: &quot;round&quot;, &quot;noClip&quot;: false, &quot;opacity&quot;: 1.0, &quot;smoothFactor&quot;: 1.0, &quot;stroke&quot;: true, &quot;weight&quot;: 3}\n",
       "            ).addTo(map_e4974d0b8983bd2c4d306be84edcc36a);\n",
       "        \n",
       "    \n",
       "            var polygon_aacb6c79ddc3bdcd352e1e159568692a = L.polygon(\n",
       "                [[-22.97457139844544, -43.2057586001746], [-22.973046927671255, -43.20469750993568], [-22.971472804666238, -43.20568455156508], [-22.97142316141184, -43.207732675863696], [-22.972947639787666, -43.20879376843861], [-22.97452175381622, -43.20780673438024]],\n",
       "                {&quot;bubblingMouseEvents&quot;: true, &quot;color&quot;: &quot;blue&quot;, &quot;dashArray&quot;: null, &quot;dashOffset&quot;: null, &quot;fill&quot;: true, &quot;fillColor&quot;: &quot;blue&quot;, &quot;fillOpacity&quot;: 0.2, &quot;fillRule&quot;: &quot;evenodd&quot;, &quot;lineCap&quot;: &quot;round&quot;, &quot;lineJoin&quot;: &quot;round&quot;, &quot;noClip&quot;: false, &quot;opacity&quot;: 1.0, &quot;smoothFactor&quot;: 1.0, &quot;stroke&quot;: true, &quot;weight&quot;: 3}\n",
       "            ).addTo(map_e4974d0b8983bd2c4d306be84edcc36a);\n",
       "        \n",
       "&lt;/script&gt;\n",
       "&lt;/html&gt;\" style=\"position:absolute;width:100%;height:100%;left:0;top:0;border:none !important;\" allowfullscreen webkitallowfullscreen mozallowfullscreen></iframe></div></div>"
      ],
      "text/plain": [
       "<folium.folium.Map at 0x1131d8580>"
      ]
     },
     "execution_count": 82,
     "metadata": {},
     "output_type": "execute_result"
    }
   ],
   "source": [
    "# Creating a default tile map\n",
    "fmap = build_folium_map()\n",
    "# 'k_ring(origin, k)': produces 'indexes' within 'k' distance of 'origin' index (k=0)\n",
    "ring_lst = list(h3.k_ring(\"89a8a078dcbffff\", 1)) # Returns includes 'origin'\n",
    "# Generating boundaries and adding to map\n",
    "for index in ring_lst:\n",
    "    _boundary = h3.h3_to_geo_boundary(index, geo_json=False)\n",
    "    folium.Polygon(locations= _boundary, # 'location': no need to add first point at last\n",
    "                   fill=True, # 'kwargs'\n",
    "                   color=\"blue\").add_to(fmap) # 'kwargs'\n",
    "fmap"
   ]
  },
  {
   "cell_type": "code",
   "execution_count": 77,
   "metadata": {},
   "outputs": [
    {
     "data": {
      "text/html": [
       "<div style=\"width:100%;\"><div style=\"position:relative;width:100%;height:0;padding-bottom:60%;\"><span style=\"color:#565656\">Make this Notebook Trusted to load map: File -> Trust Notebook</span><iframe srcdoc=\"&lt;!DOCTYPE html&gt;\n",
       "&lt;html&gt;\n",
       "&lt;head&gt;\n",
       "    \n",
       "    &lt;meta http-equiv=&quot;content-type&quot; content=&quot;text/html; charset=UTF-8&quot; /&gt;\n",
       "    \n",
       "        &lt;script&gt;\n",
       "            L_NO_TOUCH = false;\n",
       "            L_DISABLE_3D = false;\n",
       "        &lt;/script&gt;\n",
       "    \n",
       "    &lt;style&gt;html, body {width: 100%;height: 100%;margin: 0;padding: 0;}&lt;/style&gt;\n",
       "    &lt;style&gt;#map {position:absolute;top:0;bottom:0;right:0;left:0;}&lt;/style&gt;\n",
       "    &lt;script src=&quot;https://cdn.jsdelivr.net/npm/leaflet@1.9.3/dist/leaflet.js&quot;&gt;&lt;/script&gt;\n",
       "    &lt;script src=&quot;https://code.jquery.com/jquery-3.7.1.min.js&quot;&gt;&lt;/script&gt;\n",
       "    &lt;script src=&quot;https://cdn.jsdelivr.net/npm/bootstrap@5.2.2/dist/js/bootstrap.bundle.min.js&quot;&gt;&lt;/script&gt;\n",
       "    &lt;script src=&quot;https://cdnjs.cloudflare.com/ajax/libs/Leaflet.awesome-markers/2.0.2/leaflet.awesome-markers.js&quot;&gt;&lt;/script&gt;\n",
       "    &lt;link rel=&quot;stylesheet&quot; href=&quot;https://cdn.jsdelivr.net/npm/leaflet@1.9.3/dist/leaflet.css&quot;/&gt;\n",
       "    &lt;link rel=&quot;stylesheet&quot; href=&quot;https://cdn.jsdelivr.net/npm/bootstrap@5.2.2/dist/css/bootstrap.min.css&quot;/&gt;\n",
       "    &lt;link rel=&quot;stylesheet&quot; href=&quot;https://netdna.bootstrapcdn.com/bootstrap/3.0.0/css/bootstrap.min.css&quot;/&gt;\n",
       "    &lt;link rel=&quot;stylesheet&quot; href=&quot;https://cdn.jsdelivr.net/npm/@fortawesome/fontawesome-free@6.2.0/css/all.min.css&quot;/&gt;\n",
       "    &lt;link rel=&quot;stylesheet&quot; href=&quot;https://cdnjs.cloudflare.com/ajax/libs/Leaflet.awesome-markers/2.0.2/leaflet.awesome-markers.css&quot;/&gt;\n",
       "    &lt;link rel=&quot;stylesheet&quot; href=&quot;https://cdn.jsdelivr.net/gh/python-visualization/folium/folium/templates/leaflet.awesome.rotate.min.css&quot;/&gt;\n",
       "    \n",
       "            &lt;meta name=&quot;viewport&quot; content=&quot;width=device-width,\n",
       "                initial-scale=1.0, maximum-scale=1.0, user-scalable=no&quot; /&gt;\n",
       "            &lt;style&gt;\n",
       "                #map_d092d437cfa9a94313c334241831b8c8 {\n",
       "                    position: relative;\n",
       "                    width: 100.0%;\n",
       "                    height: 100.0%;\n",
       "                    left: 0.0%;\n",
       "                    top: 0.0%;\n",
       "                }\n",
       "                .leaflet-container { font-size: 1rem; }\n",
       "            &lt;/style&gt;\n",
       "        \n",
       "&lt;/head&gt;\n",
       "&lt;body&gt;\n",
       "    \n",
       "    \n",
       "            &lt;div class=&quot;folium-map&quot; id=&quot;map_d092d437cfa9a94313c334241831b8c8&quot; &gt;&lt;/div&gt;\n",
       "        \n",
       "&lt;/body&gt;\n",
       "&lt;script&gt;\n",
       "    \n",
       "    \n",
       "            var map_d092d437cfa9a94313c334241831b8c8 = L.map(\n",
       "                &quot;map_d092d437cfa9a94313c334241831b8c8&quot;,\n",
       "                {\n",
       "                    center: [-22.9725, -43.2116],\n",
       "                    crs: L.CRS.EPSG3857,\n",
       "                    zoom: 14,\n",
       "                    zoomControl: true,\n",
       "                    preferCanvas: false,\n",
       "                }\n",
       "            );\n",
       "\n",
       "            \n",
       "\n",
       "        \n",
       "    \n",
       "            var tile_layer_c1b3ce1b2d6e7d427fbec98c212c80f6 = L.tileLayer(\n",
       "                &quot;https://{s}.basemaps.cartocdn.com/light_all/{z}/{x}/{y}{r}.png&quot;,\n",
       "                {&quot;attribution&quot;: &quot;\\u0026copy; \\u003ca href=\\&quot;https://www.openstreetmap.org/copyright\\&quot;\\u003eOpenStreetMap\\u003c/a\\u003e contributors \\u0026copy; \\u003ca href=\\&quot;https://carto.com/attributions\\&quot;\\u003eCARTO\\u003c/a\\u003e&quot;, &quot;detectRetina&quot;: false, &quot;maxNativeZoom&quot;: 20, &quot;maxZoom&quot;: 20, &quot;minZoom&quot;: 0, &quot;noWrap&quot;: false, &quot;opacity&quot;: 1, &quot;subdomains&quot;: &quot;abcd&quot;, &quot;tms&quot;: false}\n",
       "            );\n",
       "        \n",
       "    \n",
       "            tile_layer_c1b3ce1b2d6e7d427fbec98c212c80f6.addTo(map_d092d437cfa9a94313c334241831b8c8);\n",
       "        \n",
       "    \n",
       "            var polygon_bfa22ab2c89618a242a5e526893169bf = L.polygon(\n",
       "                [[-22.972947639787666, -43.20879376843861], [-22.97142316141184, -43.207732675863696], [-22.969848992095596, -43.20871970532902], [-22.96979931013377, -43.210767819793915], [-22.971323796108805, -43.211828914698835], [-22.972897956446435, -43.21084189281019]],\n",
       "                {&quot;bubblingMouseEvents&quot;: true, &quot;color&quot;: &quot;blue&quot;, &quot;dashArray&quot;: null, &quot;dashOffset&quot;: null, &quot;fill&quot;: true, &quot;fillColor&quot;: &quot;blue&quot;, &quot;fillOpacity&quot;: 0.2, &quot;fillRule&quot;: &quot;evenodd&quot;, &quot;lineCap&quot;: &quot;round&quot;, &quot;lineJoin&quot;: &quot;round&quot;, &quot;noClip&quot;: false, &quot;opacity&quot;: 1.0, &quot;smoothFactor&quot;: 1.0, &quot;stroke&quot;: true, &quot;weight&quot;: 3}\n",
       "            ).addTo(map_d092d437cfa9a94313c334241831b8c8);\n",
       "        \n",
       "    \n",
       "            var polygon_286a5229c90dfcb4200831af17587f22 = L.polygon(\n",
       "                [[-22.971472804666238, -43.20568455156508], [-22.969948277229403, -43.20462346664005], [-22.968374098937396, -43.20561050367617], [-22.968324457057964, -43.207658618067846], [-22.969848992095596, -43.20871970532902], [-22.97142316141184, -43.207732675863696]],\n",
       "                {&quot;bubblingMouseEvents&quot;: true, &quot;color&quot;: &quot;green&quot;, &quot;dashArray&quot;: null, &quot;dashOffset&quot;: null, &quot;fill&quot;: true, &quot;fillColor&quot;: &quot;green&quot;, &quot;fillOpacity&quot;: 0.2, &quot;fillRule&quot;: &quot;evenodd&quot;, &quot;lineCap&quot;: &quot;round&quot;, &quot;lineJoin&quot;: &quot;round&quot;, &quot;noClip&quot;: false, &quot;opacity&quot;: 1.0, &quot;smoothFactor&quot;: 1.0, &quot;stroke&quot;: true, &quot;weight&quot;: 3}\n",
       "            ).addTo(map_d092d437cfa9a94313c334241831b8c8);\n",
       "        \n",
       "    \n",
       "            var polygon_57a19ee7dda8da93b269ec83b64c9d8d = L.polygon(\n",
       "                [[-22.971323796108805, -43.211828914698835], [-22.96979931013377, -43.210767819793915], [-22.96822509451388, -43.211754837089764], [-22.968175373849746, -43.21380294170955], [-22.969699867421557, -43.214864038938444], [-22.971274074060677, -43.2138770292249]],\n",
       "                {&quot;bubblingMouseEvents&quot;: true, &quot;color&quot;: &quot;green&quot;, &quot;dashArray&quot;: null, &quot;dashOffset&quot;: null, &quot;fill&quot;: true, &quot;fillColor&quot;: &quot;green&quot;, &quot;fillOpacity&quot;: 0.2, &quot;fillRule&quot;: &quot;evenodd&quot;, &quot;lineCap&quot;: &quot;round&quot;, &quot;lineJoin&quot;: &quot;round&quot;, &quot;noClip&quot;: false, &quot;opacity&quot;: 1.0, &quot;smoothFactor&quot;: 1.0, &quot;stroke&quot;: true, &quot;weight&quot;: 3}\n",
       "            ).addTo(map_d092d437cfa9a94313c334241831b8c8);\n",
       "        \n",
       "    \n",
       "            var polygon_2bd610ac6ac9fcf7f2d5061b509e680e = L.polygon(\n",
       "                [[-22.976046175524267, -43.20886783226898], [-22.97452175381622, -43.20780673438024], [-22.972947639787666, -43.20879376843861], [-22.972897956446435, -43.21084189281019], [-22.97442238575451, -43.211902993028794], [-22.975996490803762, -43.21091596654728]],\n",
       "                {&quot;bubblingMouseEvents&quot;: true, &quot;color&quot;: &quot;green&quot;, &quot;dashArray&quot;: null, &quot;dashOffset&quot;: null, &quot;fill&quot;: true, &quot;fillColor&quot;: &quot;green&quot;, &quot;fillOpacity&quot;: 0.2, &quot;fillRule&quot;: &quot;evenodd&quot;, &quot;lineCap&quot;: &quot;round&quot;, &quot;lineJoin&quot;: &quot;round&quot;, &quot;noClip&quot;: false, &quot;opacity&quot;: 1.0, &quot;smoothFactor&quot;: 1.0, &quot;stroke&quot;: true, &quot;weight&quot;: 3}\n",
       "            ).addTo(map_d092d437cfa9a94313c334241831b8c8);\n",
       "        \n",
       "    \n",
       "            var polygon_c1a15472217be6f8658a2257c6cd7cfc = L.polygon(\n",
       "                [[-22.969848992095596, -43.20871970532902], [-22.968324457057964, -43.207658618067846], [-22.966750232460157, -43.20864564294014], [-22.966700551877874, -43.21069374749848], [-22.96822509451388, -43.211754837089764], [-22.96979931013377, -43.210767819793915]],\n",
       "                {&quot;bubblingMouseEvents&quot;: true, &quot;color&quot;: &quot;green&quot;, &quot;dashArray&quot;: null, &quot;dashOffset&quot;: null, &quot;fill&quot;: true, &quot;fillColor&quot;: &quot;green&quot;, &quot;fillOpacity&quot;: 0.2, &quot;fillRule&quot;: &quot;evenodd&quot;, &quot;lineCap&quot;: &quot;round&quot;, &quot;lineJoin&quot;: &quot;round&quot;, &quot;noClip&quot;: false, &quot;opacity&quot;: 1.0, &quot;smoothFactor&quot;: 1.0, &quot;stroke&quot;: true, &quot;weight&quot;: 3}\n",
       "            ).addTo(map_d092d437cfa9a94313c334241831b8c8);\n",
       "        \n",
       "    \n",
       "            var polygon_130b7a18d03d4f299e485402260ce36f = L.polygon(\n",
       "                [[-22.97442238575451, -43.211902993028794], [-22.972897956446435, -43.21084189281019], [-22.971323796108805, -43.211828914698835], [-22.971274074060677, -43.2138770292249], [-22.97279851096636, -43.214938131767354], [-22.974372662322537, -43.21395111746122]],\n",
       "                {&quot;bubblingMouseEvents&quot;: true, &quot;color&quot;: &quot;green&quot;, &quot;dashArray&quot;: null, &quot;dashOffset&quot;: null, &quot;fill&quot;: true, &quot;fillColor&quot;: &quot;green&quot;, &quot;fillOpacity&quot;: 0.2, &quot;fillRule&quot;: &quot;evenodd&quot;, &quot;lineCap&quot;: &quot;round&quot;, &quot;lineJoin&quot;: &quot;round&quot;, &quot;noClip&quot;: false, &quot;opacity&quot;: 1.0, &quot;smoothFactor&quot;: 1.0, &quot;stroke&quot;: true, &quot;weight&quot;: 3}\n",
       "            ).addTo(map_d092d437cfa9a94313c334241831b8c8);\n",
       "        \n",
       "    \n",
       "            var polygon_c936756d3301cb0d9b08186621a2b13b = L.polygon(\n",
       "                [[-22.97457139844544, -43.2057586001746], [-22.973046927671255, -43.20469750993568], [-22.971472804666238, -43.20568455156508], [-22.97142316141184, -43.207732675863696], [-22.972947639787666, -43.20879376843861], [-22.97452175381622, -43.20780673438024]],\n",
       "                {&quot;bubblingMouseEvents&quot;: true, &quot;color&quot;: &quot;green&quot;, &quot;dashArray&quot;: null, &quot;dashOffset&quot;: null, &quot;fill&quot;: true, &quot;fillColor&quot;: &quot;green&quot;, &quot;fillOpacity&quot;: 0.2, &quot;fillRule&quot;: &quot;evenodd&quot;, &quot;lineCap&quot;: &quot;round&quot;, &quot;lineJoin&quot;: &quot;round&quot;, &quot;noClip&quot;: false, &quot;opacity&quot;: 1.0, &quot;smoothFactor&quot;: 1.0, &quot;stroke&quot;: true, &quot;weight&quot;: 3}\n",
       "            ).addTo(map_d092d437cfa9a94313c334241831b8c8);\n",
       "        \n",
       "    \n",
       "            var polygon_13a7f11c666d47ce11d6718f48418124 = L.polygon(\n",
       "                [[-22.973096532213088, -43.20264937581475], [-22.971572012379504, -43.201588293231865], [-22.96999788040085, -43.202575342426435], [-22.969948277229403, -43.20462346664005], [-22.971472804666238, -43.20568455156508], [-22.973046927671255, -43.20469750993568]],\n",
       "                {&quot;bubblingMouseEvents&quot;: true, &quot;color&quot;: &quot;orange&quot;, &quot;dashArray&quot;: null, &quot;dashOffset&quot;: null, &quot;fill&quot;: true, &quot;fillColor&quot;: &quot;orange&quot;, &quot;fillOpacity&quot;: 0.2, &quot;fillRule&quot;: &quot;evenodd&quot;, &quot;lineCap&quot;: &quot;round&quot;, &quot;lineJoin&quot;: &quot;round&quot;, &quot;noClip&quot;: false, &quot;opacity&quot;: 1.0, &quot;smoothFactor&quot;: 1.0, &quot;stroke&quot;: true, &quot;weight&quot;: 3}\n",
       "            ).addTo(map_d092d437cfa9a94313c334241831b8c8);\n",
       "        \n",
       "    \n",
       "            var polygon_7d3ee312a00a959b0c79260249527b98 = L.polygon(\n",
       "                [[-22.977669880262948, -43.20583264950473], [-22.976145466157373, -43.20477155395188], [-22.97457139844544, -43.2057586001746], [-22.97452175381622, -43.20780673438024], [-22.976046175524267, -43.20886783226898], [-22.97762023425904, -43.207880793617505]],\n",
       "                {&quot;bubblingMouseEvents&quot;: true, &quot;color&quot;: &quot;orange&quot;, &quot;dashArray&quot;: null, &quot;dashOffset&quot;: null, &quot;fill&quot;: true, &quot;fillColor&quot;: &quot;orange&quot;, &quot;fillOpacity&quot;: 0.2, &quot;fillRule&quot;: &quot;evenodd&quot;, &quot;lineCap&quot;: &quot;round&quot;, &quot;lineJoin&quot;: &quot;round&quot;, &quot;noClip&quot;: false, &quot;opacity&quot;: 1.0, &quot;smoothFactor&quot;: 1.0, &quot;stroke&quot;: true, &quot;weight&quot;: 3}\n",
       "            ).addTo(map_d092d437cfa9a94313c334241831b8c8);\n",
       "        \n",
       "    \n",
       "            var polygon_9d8b5403dd39535be2c757a3433cc5b0 = L.polygon(\n",
       "                [[-22.977520863438926, -43.21197707207961], [-22.975996490803762, -43.21091596654728], [-22.97442238575451, -43.211902993028794], [-22.974372662322537, -43.21395111746122], [-22.975897042556138, -43.21501222531729], [-22.97747113862324, -43.21402520641851]],\n",
       "                {&quot;bubblingMouseEvents&quot;: true, &quot;color&quot;: &quot;orange&quot;, &quot;dashArray&quot;: null, &quot;dashOffset&quot;: null, &quot;fill&quot;: true, &quot;fillColor&quot;: &quot;orange&quot;, &quot;fillOpacity&quot;: 0.2, &quot;fillRule&quot;: &quot;evenodd&quot;, &quot;lineCap&quot;: &quot;round&quot;, &quot;lineJoin&quot;: &quot;round&quot;, &quot;noClip&quot;: false, &quot;opacity&quot;: 1.0, &quot;smoothFactor&quot;: 1.0, &quot;stroke&quot;: true, &quot;weight&quot;: 3}\n",
       "            ).addTo(map_d092d437cfa9a94313c334241831b8c8);\n",
       "        \n",
       "    \n",
       "            var polygon_bfd79e21a77789dc5e95657cbff55d32 = L.polygon(\n",
       "                [[-22.966750232460157, -43.20864564294014], [-22.965225640766675, -43.207584560992686], [-22.9636513608934, -43.208571581272], [-22.9636016816908, -43.210619675923866], [-22.965126280981817, -43.21168076020156], [-22.966700551877874, -43.21069374749848]],\n",
       "                {&quot;bubblingMouseEvents&quot;: true, &quot;color&quot;: &quot;orange&quot;, &quot;dashArray&quot;: null, &quot;dashOffset&quot;: null, &quot;fill&quot;: true, &quot;fillColor&quot;: &quot;orange&quot;, &quot;fillOpacity&quot;: 0.2, &quot;fillRule&quot;: &quot;evenodd&quot;, &quot;lineCap&quot;: &quot;round&quot;, &quot;lineJoin&quot;: &quot;round&quot;, &quot;noClip&quot;: false, &quot;opacity&quot;: 1.0, &quot;smoothFactor&quot;: 1.0, &quot;stroke&quot;: true, &quot;weight&quot;: 3}\n",
       "            ).addTo(map_d092d437cfa9a94313c334241831b8c8);\n",
       "        \n",
       "    \n",
       "            var polygon_4c379d5a126f27cf5802ffb33e18c762 = L.polygon(\n",
       "                [[-22.97619507206946, -43.202723409923536], [-22.974670608899338, -43.20166232202666], [-22.973096532213088, -43.20264937581475], [-22.973046927671255, -43.20469750993568], [-22.97457139844544, -43.2057586001746], [-22.976145466157373, -43.20477155395188]],\n",
       "                {&quot;bubblingMouseEvents&quot;: true, &quot;color&quot;: &quot;orange&quot;, &quot;dashArray&quot;: null, &quot;dashOffset&quot;: null, &quot;fill&quot;: true, &quot;fillColor&quot;: &quot;orange&quot;, &quot;fillOpacity&quot;: 0.2, &quot;fillRule&quot;: &quot;evenodd&quot;, &quot;lineCap&quot;: &quot;round&quot;, &quot;lineJoin&quot;: &quot;round&quot;, &quot;noClip&quot;: false, &quot;opacity&quot;: 1.0, &quot;smoothFactor&quot;: 1.0, &quot;stroke&quot;: true, &quot;weight&quot;: 3}\n",
       "            ).addTo(map_d092d437cfa9a94313c334241831b8c8);\n",
       "        \n",
       "    \n",
       "            var polygon_8c7fb37c7688e74fe2199e292afea081 = L.polygon(\n",
       "                [[-22.96999788040085, -43.202575342426435], [-22.968473303909768, -43.201514265157506], [-22.966899116644836, -43.20250130975859], [-22.966849514843897, -43.20454942406497], [-22.968374098937396, -43.20561050367617], [-22.969948277229403, -43.20462346664005]],\n",
       "                {&quot;bubblingMouseEvents&quot;: true, &quot;color&quot;: &quot;orange&quot;, &quot;dashArray&quot;: null, &quot;dashOffset&quot;: null, &quot;fill&quot;: true, &quot;fillColor&quot;: &quot;orange&quot;, &quot;fillOpacity&quot;: 0.2, &quot;fillRule&quot;: &quot;evenodd&quot;, &quot;lineCap&quot;: &quot;round&quot;, &quot;lineJoin&quot;: &quot;round&quot;, &quot;noClip&quot;: false, &quot;opacity&quot;: 1.0, &quot;smoothFactor&quot;: 1.0, &quot;stroke&quot;: true, &quot;weight&quot;: 3}\n",
       "            ).addTo(map_d092d437cfa9a94313c334241831b8c8);\n",
       "        \n",
       "    \n",
       "            var polygon_07e8593eb2815f867710211350febfea = L.polygon(\n",
       "                [[-22.968374098937396, -43.20561050367617], [-22.966849514843897, -43.20454942406497], [-22.96527528127102, -43.20553645650786], [-22.965225640766675, -43.207584560992686], [-22.966750232460157, -43.20864564294014], [-22.968324457057964, -43.207658618067846]],\n",
       "                {&quot;bubblingMouseEvents&quot;: true, &quot;color&quot;: &quot;orange&quot;, &quot;dashArray&quot;: null, &quot;dashOffset&quot;: null, &quot;fill&quot;: true, &quot;fillColor&quot;: &quot;orange&quot;, &quot;fillOpacity&quot;: 0.2, &quot;fillRule&quot;: &quot;evenodd&quot;, &quot;lineCap&quot;: &quot;round&quot;, &quot;lineJoin&quot;: &quot;round&quot;, &quot;noClip&quot;: false, &quot;opacity&quot;: 1.0, &quot;smoothFactor&quot;: 1.0, &quot;stroke&quot;: true, &quot;weight&quot;: 3}\n",
       "            ).addTo(map_d092d437cfa9a94313c334241831b8c8);\n",
       "        \n",
       "    \n",
       "            var polygon_a201ea44b00c2f5cb183bc40f00ce440 = L.polygon(\n",
       "                [[-22.969699867421557, -43.214864038938444], [-22.968175373849746, -43.21380294170955], [-22.96660111193376, -43.214789946830535], [-22.966551352572452, -43.216838041593796], [-22.96807585373859, -43.21789914114065], [-22.969650106671665, -43.21691214360761]],\n",
       "                {&quot;bubblingMouseEvents&quot;: true, &quot;color&quot;: &quot;orange&quot;, &quot;dashArray&quot;: null, &quot;dashOffset&quot;: null, &quot;fill&quot;: true, &quot;fillColor&quot;: &quot;orange&quot;, &quot;fillOpacity&quot;: 0.2, &quot;fillRule&quot;: &quot;evenodd&quot;, &quot;lineCap&quot;: &quot;round&quot;, &quot;lineJoin&quot;: &quot;round&quot;, &quot;noClip&quot;: false, &quot;opacity&quot;: 1.0, &quot;smoothFactor&quot;: 1.0, &quot;stroke&quot;: true, &quot;weight&quot;: 3}\n",
       "            ).addTo(map_d092d437cfa9a94313c334241831b8c8);\n",
       "        \n",
       "    \n",
       "            var polygon_32c2b5a5134fd766c66da7ee2e755d05 = L.polygon(\n",
       "                [[-22.975897042556138, -43.21501222531729], [-22.974372662322537, -43.21395111746122], [-22.97279851096636, -43.214938131767354], [-22.972748748828053, -43.21698624634252], [-22.97427313665765, -43.218047356516294], [-22.975847279029527, -43.21706034979853]],\n",
       "                {&quot;bubblingMouseEvents&quot;: true, &quot;color&quot;: &quot;orange&quot;, &quot;dashArray&quot;: null, &quot;dashOffset&quot;: null, &quot;fill&quot;: true, &quot;fillColor&quot;: &quot;orange&quot;, &quot;fillOpacity&quot;: 0.2, &quot;fillRule&quot;: &quot;evenodd&quot;, &quot;lineCap&quot;: &quot;round&quot;, &quot;lineJoin&quot;: &quot;round&quot;, &quot;noClip&quot;: false, &quot;opacity&quot;: 1.0, &quot;smoothFactor&quot;: 1.0, &quot;stroke&quot;: true, &quot;weight&quot;: 3}\n",
       "            ).addTo(map_d092d437cfa9a94313c334241831b8c8);\n",
       "        \n",
       "    \n",
       "            var polygon_f4caa3ebfa513d1cfee648974ce93102 = L.polygon(\n",
       "                [[-22.96822509451388, -43.211754837089764], [-22.966700551877874, -43.21069374749848], [-22.965126280981817, -43.21168076020156], [-22.965076561701807, -43.21372885491515], [-22.96660111193376, -43.214789946830535], [-22.968175373849746, -43.21380294170955]],\n",
       "                {&quot;bubblingMouseEvents&quot;: true, &quot;color&quot;: &quot;orange&quot;, &quot;dashArray&quot;: null, &quot;dashOffset&quot;: null, &quot;fill&quot;: true, &quot;fillColor&quot;: &quot;orange&quot;, &quot;fillOpacity&quot;: 0.2, &quot;fillRule&quot;: &quot;evenodd&quot;, &quot;lineCap&quot;: &quot;round&quot;, &quot;lineJoin&quot;: &quot;round&quot;, &quot;noClip&quot;: false, &quot;opacity&quot;: 1.0, &quot;smoothFactor&quot;: 1.0, &quot;stroke&quot;: true, &quot;weight&quot;: 3}\n",
       "            ).addTo(map_d092d437cfa9a94313c334241831b8c8);\n",
       "        \n",
       "    \n",
       "            var polygon_134358a1ad6c07256ef0d196ceef007b = L.polygon(\n",
       "                [[-22.97279851096636, -43.214938131767354], [-22.971274074060677, -43.2138770292249], [-22.969699867421557, -43.214864038938444], [-22.969650106671665, -43.21691214360761], [-22.97117455117252, -43.217973248467906], [-22.972748748828053, -43.21698624634252]],\n",
       "                {&quot;bubblingMouseEvents&quot;: true, &quot;color&quot;: &quot;orange&quot;, &quot;dashArray&quot;: null, &quot;dashOffset&quot;: null, &quot;fill&quot;: true, &quot;fillColor&quot;: &quot;orange&quot;, &quot;fillOpacity&quot;: 0.2, &quot;fillRule&quot;: &quot;evenodd&quot;, &quot;lineCap&quot;: &quot;round&quot;, &quot;lineJoin&quot;: &quot;round&quot;, &quot;noClip&quot;: false, &quot;opacity&quot;: 1.0, &quot;smoothFactor&quot;: 1.0, &quot;stroke&quot;: true, &quot;weight&quot;: 3}\n",
       "            ).addTo(map_d092d437cfa9a94313c334241831b8c8);\n",
       "        \n",
       "    \n",
       "            var polygon_f2998bd7f298e76021ad12bba5de46ea = L.polygon(\n",
       "                [[-22.979144599293335, -43.208941896820086], [-22.97762023425904, -43.207880793617505], [-22.976046175524267, -43.20886783226898], [-22.975996490803762, -43.21091596654728], [-22.977520863438926, -43.21197707207961], [-22.979094913193705, -43.21099004100523]],\n",
       "                {&quot;bubblingMouseEvents&quot;: true, &quot;color&quot;: &quot;orange&quot;, &quot;dashArray&quot;: null, &quot;dashOffset&quot;: null, &quot;fill&quot;: true, &quot;fillColor&quot;: &quot;orange&quot;, &quot;fillOpacity&quot;: 0.2, &quot;fillRule&quot;: &quot;evenodd&quot;, &quot;lineCap&quot;: &quot;round&quot;, &quot;lineJoin&quot;: &quot;round&quot;, &quot;noClip&quot;: false, &quot;opacity&quot;: 1.0, &quot;smoothFactor&quot;: 1.0, &quot;stroke&quot;: true, &quot;weight&quot;: 3}\n",
       "            ).addTo(map_d092d437cfa9a94313c334241831b8c8);\n",
       "        \n",
       "&lt;/script&gt;\n",
       "&lt;/html&gt;\" style=\"position:absolute;width:100%;height:100%;left:0;top:0;border:none !important;\" allowfullscreen webkitallowfullscreen mozallowfullscreen></iframe></div></div>"
      ],
      "text/plain": [
       "<folium.folium.Map at 0x11318b970>"
      ]
     },
     "execution_count": 77,
     "metadata": {},
     "output_type": "execute_result"
    }
   ],
   "source": [
    "# Defining colors\n",
    "color_dict = [\"blue\", \"green\", \"orange\", \"red\"]\n",
    "# Creating a default tile map\n",
    "fmap = build_folium_map()\n",
    "# 'k_ring_distances(origin, k)': similar to 'k_ring()' (above) but with indexes returned in levels ('k'-based)\n",
    "ring_lst = h3.k_ring_distances(\"89a8a078dcbffff\", 2) # Returns includes 'origin'\n",
    "# Generating boundaries and adding to map\n",
    "for idx, level in enumerate(ring_lst):\n",
    "    for index in level:\n",
    "        _boundary = h3.h3_to_geo_boundary(index, geo_json=False)\n",
    "        folium.Polygon(locations= _boundary, # 'location': no need to add first point at last\n",
    "                       fill=True, # 'kwargs'\n",
    "                       color=color_dict[idx]).add_to(fmap) # 'kwargs'\n",
    "fmap"
   ]
  },
  {
   "cell_type": "code",
   "execution_count": 88,
   "metadata": {},
   "outputs": [
    {
     "data": {
      "text/html": [
       "<div style=\"width:100%;\"><div style=\"position:relative;width:100%;height:0;padding-bottom:60%;\"><span style=\"color:#565656\">Make this Notebook Trusted to load map: File -> Trust Notebook</span><iframe srcdoc=\"&lt;!DOCTYPE html&gt;\n",
       "&lt;html&gt;\n",
       "&lt;head&gt;\n",
       "    \n",
       "    &lt;meta http-equiv=&quot;content-type&quot; content=&quot;text/html; charset=UTF-8&quot; /&gt;\n",
       "    \n",
       "        &lt;script&gt;\n",
       "            L_NO_TOUCH = false;\n",
       "            L_DISABLE_3D = false;\n",
       "        &lt;/script&gt;\n",
       "    \n",
       "    &lt;style&gt;html, body {width: 100%;height: 100%;margin: 0;padding: 0;}&lt;/style&gt;\n",
       "    &lt;style&gt;#map {position:absolute;top:0;bottom:0;right:0;left:0;}&lt;/style&gt;\n",
       "    &lt;script src=&quot;https://cdn.jsdelivr.net/npm/leaflet@1.9.3/dist/leaflet.js&quot;&gt;&lt;/script&gt;\n",
       "    &lt;script src=&quot;https://code.jquery.com/jquery-3.7.1.min.js&quot;&gt;&lt;/script&gt;\n",
       "    &lt;script src=&quot;https://cdn.jsdelivr.net/npm/bootstrap@5.2.2/dist/js/bootstrap.bundle.min.js&quot;&gt;&lt;/script&gt;\n",
       "    &lt;script src=&quot;https://cdnjs.cloudflare.com/ajax/libs/Leaflet.awesome-markers/2.0.2/leaflet.awesome-markers.js&quot;&gt;&lt;/script&gt;\n",
       "    &lt;link rel=&quot;stylesheet&quot; href=&quot;https://cdn.jsdelivr.net/npm/leaflet@1.9.3/dist/leaflet.css&quot;/&gt;\n",
       "    &lt;link rel=&quot;stylesheet&quot; href=&quot;https://cdn.jsdelivr.net/npm/bootstrap@5.2.2/dist/css/bootstrap.min.css&quot;/&gt;\n",
       "    &lt;link rel=&quot;stylesheet&quot; href=&quot;https://netdna.bootstrapcdn.com/bootstrap/3.0.0/css/bootstrap.min.css&quot;/&gt;\n",
       "    &lt;link rel=&quot;stylesheet&quot; href=&quot;https://cdn.jsdelivr.net/npm/@fortawesome/fontawesome-free@6.2.0/css/all.min.css&quot;/&gt;\n",
       "    &lt;link rel=&quot;stylesheet&quot; href=&quot;https://cdnjs.cloudflare.com/ajax/libs/Leaflet.awesome-markers/2.0.2/leaflet.awesome-markers.css&quot;/&gt;\n",
       "    &lt;link rel=&quot;stylesheet&quot; href=&quot;https://cdn.jsdelivr.net/gh/python-visualization/folium/folium/templates/leaflet.awesome.rotate.min.css&quot;/&gt;\n",
       "    \n",
       "            &lt;meta name=&quot;viewport&quot; content=&quot;width=device-width,\n",
       "                initial-scale=1.0, maximum-scale=1.0, user-scalable=no&quot; /&gt;\n",
       "            &lt;style&gt;\n",
       "                #map_9abd8606c544443e84cd7924ee54373c {\n",
       "                    position: relative;\n",
       "                    width: 100.0%;\n",
       "                    height: 100.0%;\n",
       "                    left: 0.0%;\n",
       "                    top: 0.0%;\n",
       "                }\n",
       "                .leaflet-container { font-size: 1rem; }\n",
       "            &lt;/style&gt;\n",
       "        \n",
       "&lt;/head&gt;\n",
       "&lt;body&gt;\n",
       "    \n",
       "    \n",
       "            &lt;div class=&quot;folium-map&quot; id=&quot;map_9abd8606c544443e84cd7924ee54373c&quot; &gt;&lt;/div&gt;\n",
       "        \n",
       "&lt;/body&gt;\n",
       "&lt;script&gt;\n",
       "    \n",
       "    \n",
       "            var map_9abd8606c544443e84cd7924ee54373c = L.map(\n",
       "                &quot;map_9abd8606c544443e84cd7924ee54373c&quot;,\n",
       "                {\n",
       "                    center: [-22.9725, -43.2116],\n",
       "                    crs: L.CRS.EPSG3857,\n",
       "                    zoom: 14,\n",
       "                    zoomControl: true,\n",
       "                    preferCanvas: false,\n",
       "                }\n",
       "            );\n",
       "\n",
       "            \n",
       "\n",
       "        \n",
       "    \n",
       "            var tile_layer_fda69f3a78ebc47482edaaac35d98477 = L.tileLayer(\n",
       "                &quot;https://{s}.basemaps.cartocdn.com/light_all/{z}/{x}/{y}{r}.png&quot;,\n",
       "                {&quot;attribution&quot;: &quot;\\u0026copy; \\u003ca href=\\&quot;https://www.openstreetmap.org/copyright\\&quot;\\u003eOpenStreetMap\\u003c/a\\u003e contributors \\u0026copy; \\u003ca href=\\&quot;https://carto.com/attributions\\&quot;\\u003eCARTO\\u003c/a\\u003e&quot;, &quot;detectRetina&quot;: false, &quot;maxNativeZoom&quot;: 20, &quot;maxZoom&quot;: 20, &quot;minZoom&quot;: 0, &quot;noWrap&quot;: false, &quot;opacity&quot;: 1, &quot;subdomains&quot;: &quot;abcd&quot;, &quot;tms&quot;: false}\n",
       "            );\n",
       "        \n",
       "    \n",
       "            tile_layer_fda69f3a78ebc47482edaaac35d98477.addTo(map_9abd8606c544443e84cd7924ee54373c);\n",
       "        \n",
       "    \n",
       "            var polygon_14d3ab1435333a7f9d1c346688d22802 = L.polygon(\n",
       "                [[-22.973096532213088, -43.20264937581475], [-22.971572012379504, -43.201588293231865], [-22.96999788040085, -43.202575342426435], [-22.969948277229403, -43.20462346664005], [-22.971472804666238, -43.20568455156508], [-22.973046927671255, -43.20469750993568]],\n",
       "                {&quot;bubblingMouseEvents&quot;: true, &quot;color&quot;: &quot;green&quot;, &quot;dashArray&quot;: null, &quot;dashOffset&quot;: null, &quot;fill&quot;: true, &quot;fillColor&quot;: &quot;green&quot;, &quot;fillOpacity&quot;: 0.2, &quot;fillRule&quot;: &quot;evenodd&quot;, &quot;lineCap&quot;: &quot;round&quot;, &quot;lineJoin&quot;: &quot;round&quot;, &quot;noClip&quot;: false, &quot;opacity&quot;: 1.0, &quot;smoothFactor&quot;: 1.0, &quot;stroke&quot;: true, &quot;weight&quot;: 3}\n",
       "            ).addTo(map_9abd8606c544443e84cd7924ee54373c);\n",
       "        \n",
       "    \n",
       "            var polygon_9e95d83dc54015caa9cf42b643d43a35 = L.polygon(\n",
       "                [[-22.977669880262948, -43.20583264950473], [-22.976145466157373, -43.20477155395188], [-22.97457139844544, -43.2057586001746], [-22.97452175381622, -43.20780673438024], [-22.976046175524267, -43.20886783226898], [-22.97762023425904, -43.207880793617505]],\n",
       "                {&quot;bubblingMouseEvents&quot;: true, &quot;color&quot;: &quot;green&quot;, &quot;dashArray&quot;: null, &quot;dashOffset&quot;: null, &quot;fill&quot;: true, &quot;fillColor&quot;: &quot;green&quot;, &quot;fillOpacity&quot;: 0.2, &quot;fillRule&quot;: &quot;evenodd&quot;, &quot;lineCap&quot;: &quot;round&quot;, &quot;lineJoin&quot;: &quot;round&quot;, &quot;noClip&quot;: false, &quot;opacity&quot;: 1.0, &quot;smoothFactor&quot;: 1.0, &quot;stroke&quot;: true, &quot;weight&quot;: 3}\n",
       "            ).addTo(map_9abd8606c544443e84cd7924ee54373c);\n",
       "        \n",
       "    \n",
       "            var polygon_faa38bcbb97a6c802565284d5353b11f = L.polygon(\n",
       "                [[-22.977520863438926, -43.21197707207961], [-22.975996490803762, -43.21091596654728], [-22.97442238575451, -43.211902993028794], [-22.974372662322537, -43.21395111746122], [-22.975897042556138, -43.21501222531729], [-22.97747113862324, -43.21402520641851]],\n",
       "                {&quot;bubblingMouseEvents&quot;: true, &quot;color&quot;: &quot;green&quot;, &quot;dashArray&quot;: null, &quot;dashOffset&quot;: null, &quot;fill&quot;: true, &quot;fillColor&quot;: &quot;green&quot;, &quot;fillOpacity&quot;: 0.2, &quot;fillRule&quot;: &quot;evenodd&quot;, &quot;lineCap&quot;: &quot;round&quot;, &quot;lineJoin&quot;: &quot;round&quot;, &quot;noClip&quot;: false, &quot;opacity&quot;: 1.0, &quot;smoothFactor&quot;: 1.0, &quot;stroke&quot;: true, &quot;weight&quot;: 3}\n",
       "            ).addTo(map_9abd8606c544443e84cd7924ee54373c);\n",
       "        \n",
       "    \n",
       "            var polygon_00f529c4120238c27ddf9c6398075a77 = L.polygon(\n",
       "                [[-22.966750232460157, -43.20864564294014], [-22.965225640766675, -43.207584560992686], [-22.9636513608934, -43.208571581272], [-22.9636016816908, -43.210619675923866], [-22.965126280981817, -43.21168076020156], [-22.966700551877874, -43.21069374749848]],\n",
       "                {&quot;bubblingMouseEvents&quot;: true, &quot;color&quot;: &quot;green&quot;, &quot;dashArray&quot;: null, &quot;dashOffset&quot;: null, &quot;fill&quot;: true, &quot;fillColor&quot;: &quot;green&quot;, &quot;fillOpacity&quot;: 0.2, &quot;fillRule&quot;: &quot;evenodd&quot;, &quot;lineCap&quot;: &quot;round&quot;, &quot;lineJoin&quot;: &quot;round&quot;, &quot;noClip&quot;: false, &quot;opacity&quot;: 1.0, &quot;smoothFactor&quot;: 1.0, &quot;stroke&quot;: true, &quot;weight&quot;: 3}\n",
       "            ).addTo(map_9abd8606c544443e84cd7924ee54373c);\n",
       "        \n",
       "    \n",
       "            var polygon_df47f4af54a188d8daf82caf23a7712f = L.polygon(\n",
       "                [[-22.97619507206946, -43.202723409923536], [-22.974670608899338, -43.20166232202666], [-22.973096532213088, -43.20264937581475], [-22.973046927671255, -43.20469750993568], [-22.97457139844544, -43.2057586001746], [-22.976145466157373, -43.20477155395188]],\n",
       "                {&quot;bubblingMouseEvents&quot;: true, &quot;color&quot;: &quot;green&quot;, &quot;dashArray&quot;: null, &quot;dashOffset&quot;: null, &quot;fill&quot;: true, &quot;fillColor&quot;: &quot;green&quot;, &quot;fillOpacity&quot;: 0.2, &quot;fillRule&quot;: &quot;evenodd&quot;, &quot;lineCap&quot;: &quot;round&quot;, &quot;lineJoin&quot;: &quot;round&quot;, &quot;noClip&quot;: false, &quot;opacity&quot;: 1.0, &quot;smoothFactor&quot;: 1.0, &quot;stroke&quot;: true, &quot;weight&quot;: 3}\n",
       "            ).addTo(map_9abd8606c544443e84cd7924ee54373c);\n",
       "        \n",
       "    \n",
       "            var polygon_e789bd66969f991e72af6050e055924f = L.polygon(\n",
       "                [[-22.96999788040085, -43.202575342426435], [-22.968473303909768, -43.201514265157506], [-22.966899116644836, -43.20250130975859], [-22.966849514843897, -43.20454942406497], [-22.968374098937396, -43.20561050367617], [-22.969948277229403, -43.20462346664005]],\n",
       "                {&quot;bubblingMouseEvents&quot;: true, &quot;color&quot;: &quot;green&quot;, &quot;dashArray&quot;: null, &quot;dashOffset&quot;: null, &quot;fill&quot;: true, &quot;fillColor&quot;: &quot;green&quot;, &quot;fillOpacity&quot;: 0.2, &quot;fillRule&quot;: &quot;evenodd&quot;, &quot;lineCap&quot;: &quot;round&quot;, &quot;lineJoin&quot;: &quot;round&quot;, &quot;noClip&quot;: false, &quot;opacity&quot;: 1.0, &quot;smoothFactor&quot;: 1.0, &quot;stroke&quot;: true, &quot;weight&quot;: 3}\n",
       "            ).addTo(map_9abd8606c544443e84cd7924ee54373c);\n",
       "        \n",
       "    \n",
       "            var polygon_786e344e7ba72a40703a9728caaef7bc = L.polygon(\n",
       "                [[-22.968374098937396, -43.20561050367617], [-22.966849514843897, -43.20454942406497], [-22.96527528127102, -43.20553645650786], [-22.965225640766675, -43.207584560992686], [-22.966750232460157, -43.20864564294014], [-22.968324457057964, -43.207658618067846]],\n",
       "                {&quot;bubblingMouseEvents&quot;: true, &quot;color&quot;: &quot;green&quot;, &quot;dashArray&quot;: null, &quot;dashOffset&quot;: null, &quot;fill&quot;: true, &quot;fillColor&quot;: &quot;green&quot;, &quot;fillOpacity&quot;: 0.2, &quot;fillRule&quot;: &quot;evenodd&quot;, &quot;lineCap&quot;: &quot;round&quot;, &quot;lineJoin&quot;: &quot;round&quot;, &quot;noClip&quot;: false, &quot;opacity&quot;: 1.0, &quot;smoothFactor&quot;: 1.0, &quot;stroke&quot;: true, &quot;weight&quot;: 3}\n",
       "            ).addTo(map_9abd8606c544443e84cd7924ee54373c);\n",
       "        \n",
       "    \n",
       "            var polygon_f4b971cdd655ec5956c7d32cd84fd922 = L.polygon(\n",
       "                [[-22.969699867421557, -43.214864038938444], [-22.968175373849746, -43.21380294170955], [-22.96660111193376, -43.214789946830535], [-22.966551352572452, -43.216838041593796], [-22.96807585373859, -43.21789914114065], [-22.969650106671665, -43.21691214360761]],\n",
       "                {&quot;bubblingMouseEvents&quot;: true, &quot;color&quot;: &quot;green&quot;, &quot;dashArray&quot;: null, &quot;dashOffset&quot;: null, &quot;fill&quot;: true, &quot;fillColor&quot;: &quot;green&quot;, &quot;fillOpacity&quot;: 0.2, &quot;fillRule&quot;: &quot;evenodd&quot;, &quot;lineCap&quot;: &quot;round&quot;, &quot;lineJoin&quot;: &quot;round&quot;, &quot;noClip&quot;: false, &quot;opacity&quot;: 1.0, &quot;smoothFactor&quot;: 1.0, &quot;stroke&quot;: true, &quot;weight&quot;: 3}\n",
       "            ).addTo(map_9abd8606c544443e84cd7924ee54373c);\n",
       "        \n",
       "    \n",
       "            var polygon_dc5b32aab7e8b79312d4bd0d89644720 = L.polygon(\n",
       "                [[-22.975897042556138, -43.21501222531729], [-22.974372662322537, -43.21395111746122], [-22.97279851096636, -43.214938131767354], [-22.972748748828053, -43.21698624634252], [-22.97427313665765, -43.218047356516294], [-22.975847279029527, -43.21706034979853]],\n",
       "                {&quot;bubblingMouseEvents&quot;: true, &quot;color&quot;: &quot;green&quot;, &quot;dashArray&quot;: null, &quot;dashOffset&quot;: null, &quot;fill&quot;: true, &quot;fillColor&quot;: &quot;green&quot;, &quot;fillOpacity&quot;: 0.2, &quot;fillRule&quot;: &quot;evenodd&quot;, &quot;lineCap&quot;: &quot;round&quot;, &quot;lineJoin&quot;: &quot;round&quot;, &quot;noClip&quot;: false, &quot;opacity&quot;: 1.0, &quot;smoothFactor&quot;: 1.0, &quot;stroke&quot;: true, &quot;weight&quot;: 3}\n",
       "            ).addTo(map_9abd8606c544443e84cd7924ee54373c);\n",
       "        \n",
       "    \n",
       "            var polygon_cdebe3e28d6ca60d840fbff3457c2a64 = L.polygon(\n",
       "                [[-22.96822509451388, -43.211754837089764], [-22.966700551877874, -43.21069374749848], [-22.965126280981817, -43.21168076020156], [-22.965076561701807, -43.21372885491515], [-22.96660111193376, -43.214789946830535], [-22.968175373849746, -43.21380294170955]],\n",
       "                {&quot;bubblingMouseEvents&quot;: true, &quot;color&quot;: &quot;green&quot;, &quot;dashArray&quot;: null, &quot;dashOffset&quot;: null, &quot;fill&quot;: true, &quot;fillColor&quot;: &quot;green&quot;, &quot;fillOpacity&quot;: 0.2, &quot;fillRule&quot;: &quot;evenodd&quot;, &quot;lineCap&quot;: &quot;round&quot;, &quot;lineJoin&quot;: &quot;round&quot;, &quot;noClip&quot;: false, &quot;opacity&quot;: 1.0, &quot;smoothFactor&quot;: 1.0, &quot;stroke&quot;: true, &quot;weight&quot;: 3}\n",
       "            ).addTo(map_9abd8606c544443e84cd7924ee54373c);\n",
       "        \n",
       "    \n",
       "            var polygon_fb8349b0ab26002898110ad37618d2d2 = L.polygon(\n",
       "                [[-22.97279851096636, -43.214938131767354], [-22.971274074060677, -43.2138770292249], [-22.969699867421557, -43.214864038938444], [-22.969650106671665, -43.21691214360761], [-22.97117455117252, -43.217973248467906], [-22.972748748828053, -43.21698624634252]],\n",
       "                {&quot;bubblingMouseEvents&quot;: true, &quot;color&quot;: &quot;green&quot;, &quot;dashArray&quot;: null, &quot;dashOffset&quot;: null, &quot;fill&quot;: true, &quot;fillColor&quot;: &quot;green&quot;, &quot;fillOpacity&quot;: 0.2, &quot;fillRule&quot;: &quot;evenodd&quot;, &quot;lineCap&quot;: &quot;round&quot;, &quot;lineJoin&quot;: &quot;round&quot;, &quot;noClip&quot;: false, &quot;opacity&quot;: 1.0, &quot;smoothFactor&quot;: 1.0, &quot;stroke&quot;: true, &quot;weight&quot;: 3}\n",
       "            ).addTo(map_9abd8606c544443e84cd7924ee54373c);\n",
       "        \n",
       "    \n",
       "            var polygon_b3e62befe6ed0861767b3fadba7f12bf = L.polygon(\n",
       "                [[-22.979144599293335, -43.208941896820086], [-22.97762023425904, -43.207880793617505], [-22.976046175524267, -43.20886783226898], [-22.975996490803762, -43.21091596654728], [-22.977520863438926, -43.21197707207961], [-22.979094913193705, -43.21099004100523]],\n",
       "                {&quot;bubblingMouseEvents&quot;: true, &quot;color&quot;: &quot;green&quot;, &quot;dashArray&quot;: null, &quot;dashOffset&quot;: null, &quot;fill&quot;: true, &quot;fillColor&quot;: &quot;green&quot;, &quot;fillOpacity&quot;: 0.2, &quot;fillRule&quot;: &quot;evenodd&quot;, &quot;lineCap&quot;: &quot;round&quot;, &quot;lineJoin&quot;: &quot;round&quot;, &quot;noClip&quot;: false, &quot;opacity&quot;: 1.0, &quot;smoothFactor&quot;: 1.0, &quot;stroke&quot;: true, &quot;weight&quot;: 3}\n",
       "            ).addTo(map_9abd8606c544443e84cd7924ee54373c);\n",
       "        \n",
       "&lt;/script&gt;\n",
       "&lt;/html&gt;\" style=\"position:absolute;width:100%;height:100%;left:0;top:0;border:none !important;\" allowfullscreen webkitallowfullscreen mozallowfullscreen></iframe></div></div>"
      ],
      "text/plain": [
       "<folium.folium.Map at 0x11336efa0>"
      ]
     },
     "execution_count": 88,
     "metadata": {},
     "output_type": "execute_result"
    }
   ],
   "source": [
    "# Creating a default tile map\n",
    "fmap = build_folium_map()\n",
    "# 'hex_ring(origin, k)': produces the hollow hex ring of 'indexes' within 'k' distance of 'origin' index (k=0)\n",
    "ring_lst = list(h3.hex_ring(\"89a8a078dcbffff\", 2)) # Returns doesnt include 'origin'\n",
    "# Generating boundaries and adding to map\n",
    "for index in ring_lst:\n",
    "    _boundary = h3.h3_to_geo_boundary(index, geo_json=False)\n",
    "    folium.Polygon(locations= _boundary, # 'location': no need to add first point at last\n",
    "                   fill=True, # 'kwargs'\n",
    "                   color=\"green\").add_to(fmap) # 'kwargs'\n",
    "fmap"
   ]
  },
  {
   "cell_type": "code",
   "execution_count": 91,
   "metadata": {},
   "outputs": [
    {
     "data": {
      "text/plain": [
       "2"
      ]
     },
     "execution_count": 91,
     "metadata": {},
     "output_type": "execute_result"
    }
   ],
   "source": [
    "# 'h3_distance(index1, index2)': returns distance (in grid 'Cell's) between 'index1' and 'index2'\n",
    "h3.h3_distance(\"89a8a078dcbffff\",\"89a8a078c23ffff\") "
   ]
  },
  {
   "cell_type": "markdown",
   "metadata": {},
   "source": [
    "**Hierarchy**: allows moving between resolutions (functions produce ```parent```/```children```);"
   ]
  },
  {
   "cell_type": "code",
   "execution_count": 96,
   "metadata": {},
   "outputs": [
    {
     "data": {
      "text/html": [
       "<div style=\"width:100%;\"><div style=\"position:relative;width:100%;height:0;padding-bottom:60%;\"><span style=\"color:#565656\">Make this Notebook Trusted to load map: File -> Trust Notebook</span><iframe srcdoc=\"&lt;!DOCTYPE html&gt;\n",
       "&lt;html&gt;\n",
       "&lt;head&gt;\n",
       "    \n",
       "    &lt;meta http-equiv=&quot;content-type&quot; content=&quot;text/html; charset=UTF-8&quot; /&gt;\n",
       "    \n",
       "        &lt;script&gt;\n",
       "            L_NO_TOUCH = false;\n",
       "            L_DISABLE_3D = false;\n",
       "        &lt;/script&gt;\n",
       "    \n",
       "    &lt;style&gt;html, body {width: 100%;height: 100%;margin: 0;padding: 0;}&lt;/style&gt;\n",
       "    &lt;style&gt;#map {position:absolute;top:0;bottom:0;right:0;left:0;}&lt;/style&gt;\n",
       "    &lt;script src=&quot;https://cdn.jsdelivr.net/npm/leaflet@1.9.3/dist/leaflet.js&quot;&gt;&lt;/script&gt;\n",
       "    &lt;script src=&quot;https://code.jquery.com/jquery-3.7.1.min.js&quot;&gt;&lt;/script&gt;\n",
       "    &lt;script src=&quot;https://cdn.jsdelivr.net/npm/bootstrap@5.2.2/dist/js/bootstrap.bundle.min.js&quot;&gt;&lt;/script&gt;\n",
       "    &lt;script src=&quot;https://cdnjs.cloudflare.com/ajax/libs/Leaflet.awesome-markers/2.0.2/leaflet.awesome-markers.js&quot;&gt;&lt;/script&gt;\n",
       "    &lt;link rel=&quot;stylesheet&quot; href=&quot;https://cdn.jsdelivr.net/npm/leaflet@1.9.3/dist/leaflet.css&quot;/&gt;\n",
       "    &lt;link rel=&quot;stylesheet&quot; href=&quot;https://cdn.jsdelivr.net/npm/bootstrap@5.2.2/dist/css/bootstrap.min.css&quot;/&gt;\n",
       "    &lt;link rel=&quot;stylesheet&quot; href=&quot;https://netdna.bootstrapcdn.com/bootstrap/3.0.0/css/bootstrap.min.css&quot;/&gt;\n",
       "    &lt;link rel=&quot;stylesheet&quot; href=&quot;https://cdn.jsdelivr.net/npm/@fortawesome/fontawesome-free@6.2.0/css/all.min.css&quot;/&gt;\n",
       "    &lt;link rel=&quot;stylesheet&quot; href=&quot;https://cdnjs.cloudflare.com/ajax/libs/Leaflet.awesome-markers/2.0.2/leaflet.awesome-markers.css&quot;/&gt;\n",
       "    &lt;link rel=&quot;stylesheet&quot; href=&quot;https://cdn.jsdelivr.net/gh/python-visualization/folium/folium/templates/leaflet.awesome.rotate.min.css&quot;/&gt;\n",
       "    \n",
       "            &lt;meta name=&quot;viewport&quot; content=&quot;width=device-width,\n",
       "                initial-scale=1.0, maximum-scale=1.0, user-scalable=no&quot; /&gt;\n",
       "            &lt;style&gt;\n",
       "                #map_82c7c84d83d7b2d768079f90ed4effa3 {\n",
       "                    position: relative;\n",
       "                    width: 100.0%;\n",
       "                    height: 100.0%;\n",
       "                    left: 0.0%;\n",
       "                    top: 0.0%;\n",
       "                }\n",
       "                .leaflet-container { font-size: 1rem; }\n",
       "            &lt;/style&gt;\n",
       "        \n",
       "&lt;/head&gt;\n",
       "&lt;body&gt;\n",
       "    \n",
       "    \n",
       "            &lt;div class=&quot;folium-map&quot; id=&quot;map_82c7c84d83d7b2d768079f90ed4effa3&quot; &gt;&lt;/div&gt;\n",
       "        \n",
       "&lt;/body&gt;\n",
       "&lt;script&gt;\n",
       "    \n",
       "    \n",
       "            var map_82c7c84d83d7b2d768079f90ed4effa3 = L.map(\n",
       "                &quot;map_82c7c84d83d7b2d768079f90ed4effa3&quot;,\n",
       "                {\n",
       "                    center: [-22.9725, -43.2116],\n",
       "                    crs: L.CRS.EPSG3857,\n",
       "                    zoom: 14,\n",
       "                    zoomControl: true,\n",
       "                    preferCanvas: false,\n",
       "                }\n",
       "            );\n",
       "\n",
       "            \n",
       "\n",
       "        \n",
       "    \n",
       "            var tile_layer_264fbb7e3cb3303c6b50889cbc94f4f2 = L.tileLayer(\n",
       "                &quot;https://{s}.basemaps.cartocdn.com/light_all/{z}/{x}/{y}{r}.png&quot;,\n",
       "                {&quot;attribution&quot;: &quot;\\u0026copy; \\u003ca href=\\&quot;https://www.openstreetmap.org/copyright\\&quot;\\u003eOpenStreetMap\\u003c/a\\u003e contributors \\u0026copy; \\u003ca href=\\&quot;https://carto.com/attributions\\&quot;\\u003eCARTO\\u003c/a\\u003e&quot;, &quot;detectRetina&quot;: false, &quot;maxNativeZoom&quot;: 20, &quot;maxZoom&quot;: 20, &quot;minZoom&quot;: 0, &quot;noWrap&quot;: false, &quot;opacity&quot;: 1, &quot;subdomains&quot;: &quot;abcd&quot;, &quot;tms&quot;: false}\n",
       "            );\n",
       "        \n",
       "    \n",
       "            tile_layer_264fbb7e3cb3303c6b50889cbc94f4f2.addTo(map_82c7c84d83d7b2d768079f90ed4effa3);\n",
       "        \n",
       "    \n",
       "            var polygon_5325eaeeb88490d13c804cee97b74f43 = L.polygon(\n",
       "                [[-22.972947639787666, -43.20879376843861], [-22.97142316141184, -43.207732675863696], [-22.969848992095596, -43.20871970532902], [-22.96979931013377, -43.210767819793915], [-22.971323796108805, -43.211828914698835], [-22.972897956446435, -43.21084189281019]],\n",
       "                {&quot;bubblingMouseEvents&quot;: true, &quot;color&quot;: &quot;blue&quot;, &quot;dashArray&quot;: null, &quot;dashOffset&quot;: null, &quot;fill&quot;: true, &quot;fillColor&quot;: &quot;blue&quot;, &quot;fillOpacity&quot;: 0.2, &quot;fillRule&quot;: &quot;evenodd&quot;, &quot;lineCap&quot;: &quot;round&quot;, &quot;lineJoin&quot;: &quot;round&quot;, &quot;noClip&quot;: false, &quot;opacity&quot;: 1.0, &quot;smoothFactor&quot;: 1.0, &quot;stroke&quot;: true, &quot;weight&quot;: 3}\n",
       "            ).addTo(map_82c7c84d83d7b2d768079f90ed4effa3);\n",
       "        \n",
       "    \n",
       "            var polygon_5caa1cafcc67b23c4931499b17301308 = L.polygon(\n",
       "                [[-22.977520863438926, -43.21197707207961], [-22.97452175381622, -43.20780673438024], [-22.969848992095596, -43.20871970532902], [-22.968175373849746, -43.21380294170955], [-22.97117455117252, -43.217973248467906], [-22.975847279029527, -43.21706034979853]],\n",
       "                {&quot;bubblingMouseEvents&quot;: true, &quot;color&quot;: &quot;green&quot;, &quot;dashArray&quot;: null, &quot;dashOffset&quot;: null, &quot;fill&quot;: true, &quot;fillColor&quot;: &quot;green&quot;, &quot;fillOpacity&quot;: 0.2, &quot;fillRule&quot;: &quot;evenodd&quot;, &quot;lineCap&quot;: &quot;round&quot;, &quot;lineJoin&quot;: &quot;round&quot;, &quot;noClip&quot;: false, &quot;opacity&quot;: 1.0, &quot;smoothFactor&quot;: 1.0, &quot;stroke&quot;: true, &quot;weight&quot;: 3}\n",
       "            ).addTo(map_82c7c84d83d7b2d768079f90ed4effa3);\n",
       "        \n",
       "&lt;/script&gt;\n",
       "&lt;/html&gt;\" style=\"position:absolute;width:100%;height:100%;left:0;top:0;border:none !important;\" allowfullscreen webkitallowfullscreen mozallowfullscreen></iframe></div></div>"
      ],
      "text/plain": [
       "<folium.folium.Map at 0x113378bb0>"
      ]
     },
     "execution_count": 96,
     "metadata": {},
     "output_type": "execute_result"
    }
   ],
   "source": [
    "# Creating a default tile map\n",
    "fmap = build_folium_map()\n",
    "# 'h3_to_parent(index, parent_res)': returns parent index (at 'parent_res') containing 'index'\n",
    "parent_idx = h3.h3_to_parent(\"89a8a078dcbffff\", 8)  \n",
    "# Generating boundaries\n",
    "child_boundary = h3.h3_to_geo_boundary(\"89a8a078dcbffff\", geo_json=False)\n",
    "parent_boundary = h3.h3_to_geo_boundary(parent_idx, geo_json=False)\n",
    "# Adding to map\n",
    "folium.Polygon(locations= child_boundary, # 'location': no need to add first point at last\n",
    "               fill=True, # 'kwargs'\n",
    "               color=\"blue\").add_to(fmap) # 'kwargs'\n",
    "folium.Polygon(locations= parent_boundary, # 'location': no need to add first point at last\n",
    "               fill=True, # 'kwargs'\n",
    "               color=\"green\").add_to(fmap) # 'kwargs'\n",
    "fmap"
   ]
  },
  {
   "cell_type": "code",
   "execution_count": 97,
   "metadata": {},
   "outputs": [
    {
     "data": {
      "text/html": [
       "<div style=\"width:100%;\"><div style=\"position:relative;width:100%;height:0;padding-bottom:60%;\"><span style=\"color:#565656\">Make this Notebook Trusted to load map: File -> Trust Notebook</span><iframe srcdoc=\"&lt;!DOCTYPE html&gt;\n",
       "&lt;html&gt;\n",
       "&lt;head&gt;\n",
       "    \n",
       "    &lt;meta http-equiv=&quot;content-type&quot; content=&quot;text/html; charset=UTF-8&quot; /&gt;\n",
       "    \n",
       "        &lt;script&gt;\n",
       "            L_NO_TOUCH = false;\n",
       "            L_DISABLE_3D = false;\n",
       "        &lt;/script&gt;\n",
       "    \n",
       "    &lt;style&gt;html, body {width: 100%;height: 100%;margin: 0;padding: 0;}&lt;/style&gt;\n",
       "    &lt;style&gt;#map {position:absolute;top:0;bottom:0;right:0;left:0;}&lt;/style&gt;\n",
       "    &lt;script src=&quot;https://cdn.jsdelivr.net/npm/leaflet@1.9.3/dist/leaflet.js&quot;&gt;&lt;/script&gt;\n",
       "    &lt;script src=&quot;https://code.jquery.com/jquery-3.7.1.min.js&quot;&gt;&lt;/script&gt;\n",
       "    &lt;script src=&quot;https://cdn.jsdelivr.net/npm/bootstrap@5.2.2/dist/js/bootstrap.bundle.min.js&quot;&gt;&lt;/script&gt;\n",
       "    &lt;script src=&quot;https://cdnjs.cloudflare.com/ajax/libs/Leaflet.awesome-markers/2.0.2/leaflet.awesome-markers.js&quot;&gt;&lt;/script&gt;\n",
       "    &lt;link rel=&quot;stylesheet&quot; href=&quot;https://cdn.jsdelivr.net/npm/leaflet@1.9.3/dist/leaflet.css&quot;/&gt;\n",
       "    &lt;link rel=&quot;stylesheet&quot; href=&quot;https://cdn.jsdelivr.net/npm/bootstrap@5.2.2/dist/css/bootstrap.min.css&quot;/&gt;\n",
       "    &lt;link rel=&quot;stylesheet&quot; href=&quot;https://netdna.bootstrapcdn.com/bootstrap/3.0.0/css/bootstrap.min.css&quot;/&gt;\n",
       "    &lt;link rel=&quot;stylesheet&quot; href=&quot;https://cdn.jsdelivr.net/npm/@fortawesome/fontawesome-free@6.2.0/css/all.min.css&quot;/&gt;\n",
       "    &lt;link rel=&quot;stylesheet&quot; href=&quot;https://cdnjs.cloudflare.com/ajax/libs/Leaflet.awesome-markers/2.0.2/leaflet.awesome-markers.css&quot;/&gt;\n",
       "    &lt;link rel=&quot;stylesheet&quot; href=&quot;https://cdn.jsdelivr.net/gh/python-visualization/folium/folium/templates/leaflet.awesome.rotate.min.css&quot;/&gt;\n",
       "    \n",
       "            &lt;meta name=&quot;viewport&quot; content=&quot;width=device-width,\n",
       "                initial-scale=1.0, maximum-scale=1.0, user-scalable=no&quot; /&gt;\n",
       "            &lt;style&gt;\n",
       "                #map_10f948ec68503d2fbe3b9f51b6c87c84 {\n",
       "                    position: relative;\n",
       "                    width: 100.0%;\n",
       "                    height: 100.0%;\n",
       "                    left: 0.0%;\n",
       "                    top: 0.0%;\n",
       "                }\n",
       "                .leaflet-container { font-size: 1rem; }\n",
       "            &lt;/style&gt;\n",
       "        \n",
       "&lt;/head&gt;\n",
       "&lt;body&gt;\n",
       "    \n",
       "    \n",
       "            &lt;div class=&quot;folium-map&quot; id=&quot;map_10f948ec68503d2fbe3b9f51b6c87c84&quot; &gt;&lt;/div&gt;\n",
       "        \n",
       "&lt;/body&gt;\n",
       "&lt;script&gt;\n",
       "    \n",
       "    \n",
       "            var map_10f948ec68503d2fbe3b9f51b6c87c84 = L.map(\n",
       "                &quot;map_10f948ec68503d2fbe3b9f51b6c87c84&quot;,\n",
       "                {\n",
       "                    center: [-22.9725, -43.2116],\n",
       "                    crs: L.CRS.EPSG3857,\n",
       "                    zoom: 14,\n",
       "                    zoomControl: true,\n",
       "                    preferCanvas: false,\n",
       "                }\n",
       "            );\n",
       "\n",
       "            \n",
       "\n",
       "        \n",
       "    \n",
       "            var tile_layer_a93506640f0bdab8d8f7f03f63face74 = L.tileLayer(\n",
       "                &quot;https://{s}.basemaps.cartocdn.com/light_all/{z}/{x}/{y}{r}.png&quot;,\n",
       "                {&quot;attribution&quot;: &quot;\\u0026copy; \\u003ca href=\\&quot;https://www.openstreetmap.org/copyright\\&quot;\\u003eOpenStreetMap\\u003c/a\\u003e contributors \\u0026copy; \\u003ca href=\\&quot;https://carto.com/attributions\\&quot;\\u003eCARTO\\u003c/a\\u003e&quot;, &quot;detectRetina&quot;: false, &quot;maxNativeZoom&quot;: 20, &quot;maxZoom&quot;: 20, &quot;minZoom&quot;: 0, &quot;noWrap&quot;: false, &quot;opacity&quot;: 1, &quot;subdomains&quot;: &quot;abcd&quot;, &quot;tms&quot;: false}\n",
       "            );\n",
       "        \n",
       "    \n",
       "            tile_layer_a93506640f0bdab8d8f7f03f63face74.addTo(map_10f948ec68503d2fbe3b9f51b6c87c84);\n",
       "        \n",
       "    \n",
       "            var polygon_0591f1f6f0d4f9f2172d11e717f74f70 = L.polygon(\n",
       "                [[-22.972947639787666, -43.20879376843861], [-22.97142316141184, -43.207732675863696], [-22.969848992095596, -43.20871970532902], [-22.96979931013377, -43.210767819793915], [-22.971323796108805, -43.211828914698835], [-22.972897956446435, -43.21084189281019]],\n",
       "                {&quot;bubblingMouseEvents&quot;: true, &quot;color&quot;: &quot;green&quot;, &quot;dashArray&quot;: null, &quot;dashOffset&quot;: null, &quot;fill&quot;: true, &quot;fillColor&quot;: &quot;green&quot;, &quot;fillOpacity&quot;: 0.2, &quot;fillRule&quot;: &quot;evenodd&quot;, &quot;lineCap&quot;: &quot;round&quot;, &quot;lineJoin&quot;: &quot;round&quot;, &quot;noClip&quot;: false, &quot;opacity&quot;: 1.0, &quot;smoothFactor&quot;: 1.0, &quot;stroke&quot;: true, &quot;weight&quot;: 3}\n",
       "            ).addTo(map_10f948ec68503d2fbe3b9f51b6c87c84);\n",
       "        \n",
       "    \n",
       "            var polygon_0b4117eeab4d0f8c0a49a58596c26ddc = L.polygon(\n",
       "                [[-22.97223042043837, -43.210972314281946], [-22.971801958436224, -43.210376555317296], [-22.97113441423426, -43.21050697709631], [-22.970895332725146, -43.21123315636508], [-22.971323796108805, -43.211828914698835], [-22.971991339620036, -43.21169849439474]],\n",
       "                {&quot;bubblingMouseEvents&quot;: true, &quot;color&quot;: &quot;blue&quot;, &quot;dashArray&quot;: null, &quot;dashOffset&quot;: null, &quot;fill&quot;: true, &quot;fillColor&quot;: &quot;blue&quot;, &quot;fillOpacity&quot;: 0.2, &quot;fillRule&quot;: &quot;evenodd&quot;, &quot;lineCap&quot;: &quot;round&quot;, &quot;lineJoin&quot;: &quot;round&quot;, &quot;noClip&quot;: false, &quot;opacity&quot;: 1.0, &quot;smoothFactor&quot;: 1.0, &quot;stroke&quot;: true, &quot;weight&quot;: 3}\n",
       "            ).addTo(map_10f948ec68503d2fbe3b9f51b6c87c84);\n",
       "        \n",
       "    \n",
       "            var polygon_04af5b3442cbbf420b650080faf7125e = L.polygon(\n",
       "                [[-22.971851635656613, -43.208328433785915], [-22.97142316141184, -43.207732675863696], [-22.970755615829205, -43.20786310059208], [-22.970516545181518, -43.20858928176809], [-22.970945020807658, -43.209185039060245], [-22.971612565700095, -43.20905461580648]],\n",
       "                {&quot;bubblingMouseEvents&quot;: true, &quot;color&quot;: &quot;blue&quot;, &quot;dashArray&quot;: null, &quot;dashOffset&quot;: null, &quot;fill&quot;: true, &quot;fillColor&quot;: &quot;blue&quot;, &quot;fillOpacity&quot;: 0.2, &quot;fillRule&quot;: &quot;evenodd&quot;, &quot;lineCap&quot;: &quot;round&quot;, &quot;lineJoin&quot;: &quot;round&quot;, &quot;noClip&quot;: false, &quot;opacity&quot;: 1.0, &quot;smoothFactor&quot;: 1.0, &quot;stroke&quot;: true, &quot;weight&quot;: 3}\n",
       "            ).addTo(map_10f948ec68503d2fbe3b9f51b6c87c84);\n",
       "        \n",
       "    \n",
       "            var polygon_7a6979d096da2a778b1ad5031e82981f = L.polygon(\n",
       "                [[-22.972947639787666, -43.20879376843861], [-22.972519173045523, -43.20819800936466], [-22.971851635656613, -43.208328433785915], [-22.971612565700095, -43.20905461580648], [-22.97204103382367, -43.20965037425024], [-22.97270857052229, -43.20951995130366]],\n",
       "                {&quot;bubblingMouseEvents&quot;: true, &quot;color&quot;: &quot;blue&quot;, &quot;dashArray&quot;: null, &quot;dashOffset&quot;: null, &quot;fill&quot;: true, &quot;fillColor&quot;: &quot;blue&quot;, &quot;fillOpacity&quot;: 0.2, &quot;fillRule&quot;: &quot;evenodd&quot;, &quot;lineCap&quot;: &quot;round&quot;, &quot;lineJoin&quot;: &quot;round&quot;, &quot;noClip&quot;: false, &quot;opacity&quot;: 1.0, &quot;smoothFactor&quot;: 1.0, &quot;stroke&quot;: true, &quot;weight&quot;: 3}\n",
       "            ).addTo(map_10f948ec68503d2fbe3b9f51b6c87c84);\n",
       "        \n",
       "    \n",
       "            var polygon_6d0989b00d3e3f408e2cf2d3db5cf05d = L.polygon(\n",
       "                [[-22.97204103382367, -43.20965037425024], [-22.971612565700095, -43.20905461580648], [-22.970945020807658, -43.209185039060245], [-22.970705944729247, -43.20991121928303], [-22.97113441423426, -43.21050697709631], [-22.971801958436224, -43.210376555317296]],\n",
       "                {&quot;bubblingMouseEvents&quot;: true, &quot;color&quot;: &quot;blue&quot;, &quot;dashArray&quot;: null, &quot;dashOffset&quot;: null, &quot;fill&quot;: true, &quot;fillColor&quot;: &quot;blue&quot;, &quot;fillOpacity&quot;: 0.2, &quot;fillRule&quot;: &quot;evenodd&quot;, &quot;lineCap&quot;: &quot;round&quot;, &quot;lineJoin&quot;: &quot;round&quot;, &quot;noClip&quot;: false, &quot;opacity&quot;: 1.0, &quot;smoothFactor&quot;: 1.0, &quot;stroke&quot;: true, &quot;weight&quot;: 3}\n",
       "            ).addTo(map_10f948ec68503d2fbe3b9f51b6c87c84);\n",
       "        \n",
       "    \n",
       "            var polygon_56e27c89d90deb131b24b0d04d13d575 = L.polygon(\n",
       "                [[-22.970945020807658, -43.209185039060245], [-22.970516545181518, -43.20858928176809], [-22.969848992095596, -43.20871970532902], [-22.969609915326167, -43.20944588470742], [-22.9700383923337, -43.210041641369244], [-22.970705944729247, -43.20991121928303]],\n",
       "                {&quot;bubblingMouseEvents&quot;: true, &quot;color&quot;: &quot;blue&quot;, &quot;dashArray&quot;: null, &quot;dashOffset&quot;: null, &quot;fill&quot;: true, &quot;fillColor&quot;: &quot;blue&quot;, &quot;fillOpacity&quot;: 0.2, &quot;fillRule&quot;: &quot;evenodd&quot;, &quot;lineCap&quot;: &quot;round&quot;, &quot;lineJoin&quot;: &quot;round&quot;, &quot;noClip&quot;: false, &quot;opacity&quot;: 1.0, &quot;smoothFactor&quot;: 1.0, &quot;stroke&quot;: true, &quot;weight&quot;: 3}\n",
       "            ).addTo(map_10f948ec68503d2fbe3b9f51b6c87c84);\n",
       "        \n",
       "    \n",
       "            var polygon_e0197308a231499584fb8dc2458b6a90 = L.polygon(\n",
       "                [[-22.973137031142933, -43.210115710898926], [-22.97270857052229, -43.20951995130366], [-22.97204103382367, -43.20965037425024], [-22.971801958436224, -43.210376555317296], [-22.97223042043837, -43.210972314281946], [-22.972897956446435, -43.21084189281019]],\n",
       "                {&quot;bubblingMouseEvents&quot;: true, &quot;color&quot;: &quot;blue&quot;, &quot;dashArray&quot;: null, &quot;dashOffset&quot;: null, &quot;fill&quot;: true, &quot;fillColor&quot;: &quot;blue&quot;, &quot;fillOpacity&quot;: 0.2, &quot;fillRule&quot;: &quot;evenodd&quot;, &quot;lineCap&quot;: &quot;round&quot;, &quot;lineJoin&quot;: &quot;round&quot;, &quot;noClip&quot;: false, &quot;opacity&quot;: 1.0, &quot;smoothFactor&quot;: 1.0, &quot;stroke&quot;: true, &quot;weight&quot;: 3}\n",
       "            ).addTo(map_10f948ec68503d2fbe3b9f51b6c87c84);\n",
       "        \n",
       "    \n",
       "            var polygon_8d59df514e91902a10bf49de0f3ba48c = L.polygon(\n",
       "                [[-22.97113441423426, -43.21050697709631], [-22.970705944729247, -43.20991121928303], [-22.9700383923337, -43.210041641369244], [-22.96979931013377, -43.210767819793915], [-22.970227781020238, -43.21136357697645], [-22.970895332725146, -43.21123315636508]],\n",
       "                {&quot;bubblingMouseEvents&quot;: true, &quot;color&quot;: &quot;blue&quot;, &quot;dashArray&quot;: null, &quot;dashOffset&quot;: null, &quot;fill&quot;: true, &quot;fillColor&quot;: &quot;blue&quot;, &quot;fillOpacity&quot;: 0.2, &quot;fillRule&quot;: &quot;evenodd&quot;, &quot;lineCap&quot;: &quot;round&quot;, &quot;lineJoin&quot;: &quot;round&quot;, &quot;noClip&quot;: false, &quot;opacity&quot;: 1.0, &quot;smoothFactor&quot;: 1.0, &quot;stroke&quot;: true, &quot;weight&quot;: 3}\n",
       "            ).addTo(map_10f948ec68503d2fbe3b9f51b6c87c84);\n",
       "        \n",
       "&lt;/script&gt;\n",
       "&lt;/html&gt;\" style=\"position:absolute;width:100%;height:100%;left:0;top:0;border:none !important;\" allowfullscreen webkitallowfullscreen mozallowfullscreen></iframe></div></div>"
      ],
      "text/plain": [
       "<folium.folium.Map at 0x11327b940>"
      ]
     },
     "execution_count": 97,
     "metadata": {},
     "output_type": "execute_result"
    }
   ],
   "source": [
    "# Creating a default tile map\n",
    "fmap = build_folium_map()\n",
    "# 'h3_to_children(index, child_res)': returns children indexes (at 'child_res') containing 'index'\n",
    "child_lst = h3.h3_to_children(\"89a8a078dcbffff\", 10)  \n",
    "# Generating boundaries and adding to map (parent)\n",
    "parent_boundary = h3.h3_to_geo_boundary(\"89a8a078dcbffff\", geo_json=False)\n",
    "folium.Polygon(locations= parent_boundary, # 'location': no need to add first point at last\n",
    "               fill=True, # 'kwargs'\n",
    "               color=\"green\").add_to(fmap) # 'kwargs'\n",
    "# Generating boundaries and adding to map (children)\n",
    "for index in child_lst:\n",
    "    _boundary = h3.h3_to_geo_boundary(index, geo_json=False)\n",
    "    folium.Polygon(locations= _boundary, # 'location': no need to add first point at last\n",
    "                   fill=True, # 'kwargs'\n",
    "                   color=\"blue\").add_to(fmap) # 'kwargs'\n",
    "fmap"
   ]
  },
  {
   "cell_type": "code",
   "execution_count": 99,
   "metadata": {},
   "outputs": [
    {
     "data": {
      "text/html": [
       "<div style=\"width:100%;\"><div style=\"position:relative;width:100%;height:0;padding-bottom:60%;\"><span style=\"color:#565656\">Make this Notebook Trusted to load map: File -> Trust Notebook</span><iframe srcdoc=\"&lt;!DOCTYPE html&gt;\n",
       "&lt;html&gt;\n",
       "&lt;head&gt;\n",
       "    \n",
       "    &lt;meta http-equiv=&quot;content-type&quot; content=&quot;text/html; charset=UTF-8&quot; /&gt;\n",
       "    \n",
       "        &lt;script&gt;\n",
       "            L_NO_TOUCH = false;\n",
       "            L_DISABLE_3D = false;\n",
       "        &lt;/script&gt;\n",
       "    \n",
       "    &lt;style&gt;html, body {width: 100%;height: 100%;margin: 0;padding: 0;}&lt;/style&gt;\n",
       "    &lt;style&gt;#map {position:absolute;top:0;bottom:0;right:0;left:0;}&lt;/style&gt;\n",
       "    &lt;script src=&quot;https://cdn.jsdelivr.net/npm/leaflet@1.9.3/dist/leaflet.js&quot;&gt;&lt;/script&gt;\n",
       "    &lt;script src=&quot;https://code.jquery.com/jquery-3.7.1.min.js&quot;&gt;&lt;/script&gt;\n",
       "    &lt;script src=&quot;https://cdn.jsdelivr.net/npm/bootstrap@5.2.2/dist/js/bootstrap.bundle.min.js&quot;&gt;&lt;/script&gt;\n",
       "    &lt;script src=&quot;https://cdnjs.cloudflare.com/ajax/libs/Leaflet.awesome-markers/2.0.2/leaflet.awesome-markers.js&quot;&gt;&lt;/script&gt;\n",
       "    &lt;link rel=&quot;stylesheet&quot; href=&quot;https://cdn.jsdelivr.net/npm/leaflet@1.9.3/dist/leaflet.css&quot;/&gt;\n",
       "    &lt;link rel=&quot;stylesheet&quot; href=&quot;https://cdn.jsdelivr.net/npm/bootstrap@5.2.2/dist/css/bootstrap.min.css&quot;/&gt;\n",
       "    &lt;link rel=&quot;stylesheet&quot; href=&quot;https://netdna.bootstrapcdn.com/bootstrap/3.0.0/css/bootstrap.min.css&quot;/&gt;\n",
       "    &lt;link rel=&quot;stylesheet&quot; href=&quot;https://cdn.jsdelivr.net/npm/@fortawesome/fontawesome-free@6.2.0/css/all.min.css&quot;/&gt;\n",
       "    &lt;link rel=&quot;stylesheet&quot; href=&quot;https://cdnjs.cloudflare.com/ajax/libs/Leaflet.awesome-markers/2.0.2/leaflet.awesome-markers.css&quot;/&gt;\n",
       "    &lt;link rel=&quot;stylesheet&quot; href=&quot;https://cdn.jsdelivr.net/gh/python-visualization/folium/folium/templates/leaflet.awesome.rotate.min.css&quot;/&gt;\n",
       "    \n",
       "            &lt;meta name=&quot;viewport&quot; content=&quot;width=device-width,\n",
       "                initial-scale=1.0, maximum-scale=1.0, user-scalable=no&quot; /&gt;\n",
       "            &lt;style&gt;\n",
       "                #map_c4413b24b00851f72572da195e158a33 {\n",
       "                    position: relative;\n",
       "                    width: 100.0%;\n",
       "                    height: 100.0%;\n",
       "                    left: 0.0%;\n",
       "                    top: 0.0%;\n",
       "                }\n",
       "                .leaflet-container { font-size: 1rem; }\n",
       "            &lt;/style&gt;\n",
       "        \n",
       "&lt;/head&gt;\n",
       "&lt;body&gt;\n",
       "    \n",
       "    \n",
       "            &lt;div class=&quot;folium-map&quot; id=&quot;map_c4413b24b00851f72572da195e158a33&quot; &gt;&lt;/div&gt;\n",
       "        \n",
       "&lt;/body&gt;\n",
       "&lt;script&gt;\n",
       "    \n",
       "    \n",
       "            var map_c4413b24b00851f72572da195e158a33 = L.map(\n",
       "                &quot;map_c4413b24b00851f72572da195e158a33&quot;,\n",
       "                {\n",
       "                    center: [-22.9725, -43.2116],\n",
       "                    crs: L.CRS.EPSG3857,\n",
       "                    zoom: 14,\n",
       "                    zoomControl: true,\n",
       "                    preferCanvas: false,\n",
       "                }\n",
       "            );\n",
       "\n",
       "            \n",
       "\n",
       "        \n",
       "    \n",
       "            var tile_layer_a8cd28a36d201f4dd771c8981e5c5373 = L.tileLayer(\n",
       "                &quot;https://{s}.basemaps.cartocdn.com/light_all/{z}/{x}/{y}{r}.png&quot;,\n",
       "                {&quot;attribution&quot;: &quot;\\u0026copy; \\u003ca href=\\&quot;https://www.openstreetmap.org/copyright\\&quot;\\u003eOpenStreetMap\\u003c/a\\u003e contributors \\u0026copy; \\u003ca href=\\&quot;https://carto.com/attributions\\&quot;\\u003eCARTO\\u003c/a\\u003e&quot;, &quot;detectRetina&quot;: false, &quot;maxNativeZoom&quot;: 20, &quot;maxZoom&quot;: 20, &quot;minZoom&quot;: 0, &quot;noWrap&quot;: false, &quot;opacity&quot;: 1, &quot;subdomains&quot;: &quot;abcd&quot;, &quot;tms&quot;: false}\n",
       "            );\n",
       "        \n",
       "    \n",
       "            tile_layer_a8cd28a36d201f4dd771c8981e5c5373.addTo(map_c4413b24b00851f72572da195e158a33);\n",
       "        \n",
       "    \n",
       "            var polygon_d02a6472eeca146649ebbc4b13c74404 = L.polygon(\n",
       "                [[-22.97204103382367, -43.20965037425024], [-22.971612565700095, -43.20905461580648], [-22.970945020807658, -43.209185039060245], [-22.970705944729247, -43.20991121928303], [-22.97113441423426, -43.21050697709631], [-22.971801958436224, -43.210376555317296]],\n",
       "                {&quot;bubblingMouseEvents&quot;: true, &quot;color&quot;: &quot;blue&quot;, &quot;dashArray&quot;: null, &quot;dashOffset&quot;: null, &quot;fill&quot;: true, &quot;fillColor&quot;: &quot;blue&quot;, &quot;fillOpacity&quot;: 0.2, &quot;fillRule&quot;: &quot;evenodd&quot;, &quot;lineCap&quot;: &quot;round&quot;, &quot;lineJoin&quot;: &quot;round&quot;, &quot;noClip&quot;: false, &quot;opacity&quot;: 1.0, &quot;smoothFactor&quot;: 1.0, &quot;stroke&quot;: true, &quot;weight&quot;: 3}\n",
       "            ).addTo(map_c4413b24b00851f72572da195e158a33);\n",
       "        \n",
       "    \n",
       "            var polygon_80eaa386b8610d3da2b50f40a2d7feac = L.polygon(\n",
       "                [[-22.972947639787666, -43.20879376843861], [-22.97142316141184, -43.207732675863696], [-22.969848992095596, -43.20871970532902], [-22.96979931013377, -43.210767819793915], [-22.971323796108805, -43.211828914698835], [-22.972897956446435, -43.21084189281019]],\n",
       "                {&quot;bubblingMouseEvents&quot;: true, &quot;color&quot;: &quot;green&quot;, &quot;dashArray&quot;: null, &quot;dashOffset&quot;: null, &quot;fill&quot;: true, &quot;fillColor&quot;: &quot;green&quot;, &quot;fillOpacity&quot;: 0.2, &quot;fillRule&quot;: &quot;evenodd&quot;, &quot;lineCap&quot;: &quot;round&quot;, &quot;lineJoin&quot;: &quot;round&quot;, &quot;noClip&quot;: false, &quot;opacity&quot;: 1.0, &quot;smoothFactor&quot;: 1.0, &quot;stroke&quot;: true, &quot;weight&quot;: 3}\n",
       "            ).addTo(map_c4413b24b00851f72572da195e158a33);\n",
       "        \n",
       "&lt;/script&gt;\n",
       "&lt;/html&gt;\" style=\"position:absolute;width:100%;height:100%;left:0;top:0;border:none !important;\" allowfullscreen webkitallowfullscreen mozallowfullscreen></iframe></div></div>"
      ],
      "text/plain": [
       "<folium.folium.Map at 0x112fdc070>"
      ]
     },
     "execution_count": 99,
     "metadata": {},
     "output_type": "execute_result"
    }
   ],
   "source": [
    "# Creating a default tile map\n",
    "fmap = build_folium_map()\n",
    "# 'h3_to_center_child(index, child_res)': returns center child 'index' (at 'child_res') \n",
    "center_child = h3.h3_to_center_child(\"89a8a078dcbffff\", 10)  \n",
    "# Generating boundaries\n",
    "parent_boundary = h3.h3_to_geo_boundary(\"89a8a078dcbffff\", geo_json=False)\n",
    "child_boundary = h3.h3_to_geo_boundary(center_child, geo_json=False)\n",
    "# Adding to map\n",
    "folium.Polygon(locations= child_boundary, # 'location': no need to add first point at last\n",
    "               fill=True, # 'kwargs'\n",
    "               color=\"blue\").add_to(fmap) # 'kwargs'\n",
    "folium.Polygon(locations= parent_boundary, # 'location': no need to add first point at last\n",
    "               fill=True, # 'kwargs'\n",
    "               color=\"green\").add_to(fmap) # 'kwargs'\n",
    "fmap"
   ]
  },
  {
   "cell_type": "markdown",
   "metadata": {},
   "source": [
    "**Edges**: allows encoding directed edges from one ```Cell``` to a neighboring one;"
   ]
  },
  {
   "cell_type": "code",
   "execution_count": 108,
   "metadata": {},
   "outputs": [
    {
     "data": {
      "text/plain": [
       "True"
      ]
     },
     "execution_count": 108,
     "metadata": {},
     "output_type": "execute_result"
    }
   ],
   "source": [
    "# 'h3_indexes_are_neighbors(origin_index, destination_index)': returns wheter 'origin_index' and 'destination_index' are neighobrs\n",
    "h3.h3_indexes_are_neighbors(\"89a8a078dcbffff\", \"89a8a078c27ffff\")"
   ]
  },
  {
   "cell_type": "markdown",
   "metadata": {},
   "source": [
    "**Misc**\n"
   ]
  },
  {
   "cell_type": "code",
   "execution_count": 109,
   "metadata": {},
   "outputs": [
    {
     "data": {
      "text/plain": [
       "0.1053325"
      ]
     },
     "execution_count": 109,
     "metadata": {},
     "output_type": "execute_result"
    }
   ],
   "source": [
    "# 'hex_area(resolution, unit)': average hexagon area in 'unit' at 'resolution'\n",
    "h3.hex_area(9, unit=\"km^2\") # 'unit': 'km^2', 'm^2'"
   ]
  },
  {
   "cell_type": "code",
   "execution_count": 110,
   "metadata": {},
   "outputs": [
    {
     "data": {
      "text/plain": [
       "0.10843249095896922"
      ]
     },
     "execution_count": 110,
     "metadata": {},
     "output_type": "execute_result"
    }
   ],
   "source": [
    "# 'cell_area(index, unit)': specific 'index' area in 'unit'\n",
    "h3.cell_area(\"89a8a078dcbffff\", unit=\"km^2\") # 'unit': 'km^2', 'm^2'"
   ]
  },
  {
   "cell_type": "code",
   "execution_count": 112,
   "metadata": {},
   "outputs": [
    {
     "data": {
      "text/plain": [
       "0.174375668"
      ]
     },
     "execution_count": 112,
     "metadata": {},
     "output_type": "execute_result"
    }
   ],
   "source": [
    "# 'edge_length(resolution, unit)': average hexagon edge length in 'unit' at 'resolution'\n",
    "h3.edge_length(9, unit=\"km\") # 'unit': 'km', 'm'"
   ]
  },
  {
   "cell_type": "code",
   "execution_count": 113,
   "metadata": {},
   "outputs": [
    {
     "data": {
      "text/plain": [
       "4842432842"
      ]
     },
     "execution_count": 113,
     "metadata": {},
     "output_type": "execute_result"
    }
   ],
   "source": [
    "# 'num_hexagons(resolution)': number of 'index's at 'resolution'\n",
    "h3.num_hexagons(9)"
   ]
  },
  {
   "cell_type": "code",
   "execution_count": 114,
   "metadata": {},
   "outputs": [
    {
     "data": {
      "text/plain": [
       "{'89080000003ffff',\n",
       " '891c0000003ffff',\n",
       " '89300000003ffff',\n",
       " '894c0000003ffff',\n",
       " '89620000003ffff',\n",
       " '89740000003ffff',\n",
       " '897e0000003ffff',\n",
       " '89900000003ffff',\n",
       " '89a60000003ffff',\n",
       " '89c20000003ffff',\n",
       " '89d60000003ffff',\n",
       " '89ea0000003ffff'}"
      ]
     },
     "execution_count": 114,
     "metadata": {},
     "output_type": "execute_result"
    }
   ],
   "source": [
    "# 'get_pentagon_indexes(resolution)': all pentagons 'index's at 'resolution'\n",
    "h3.get_pentagon_indexes(9)"
   ]
  },
  {
   "cell_type": "code",
   "execution_count": 116,
   "metadata": {},
   "outputs": [
    {
     "data": {
      "text/plain": [
       "2.21496335540049"
      ]
     },
     "execution_count": 116,
     "metadata": {},
     "output_type": "execute_result"
    }
   ],
   "source": [
    "# 'point_dist(point1, point2, unit)': Haversine distance between 'point1' and 'point2'\n",
    "h3.point_dist((-22.962775602407085, -43.204551142437545), (-22.9782644648521, -43.21815530689237), unit=\"km\") # 'unit': 'km', 'm'"
   ]
  },
  {
   "cell_type": "markdown",
   "metadata": {},
   "source": [
    "---"
   ]
  }
 ],
 "metadata": {
  "kernelspec": {
   "display_name": "Python 3",
   "language": "python",
   "name": "python3"
  },
  "language_info": {
   "codemirror_mode": {
    "name": "ipython",
    "version": 3
   },
   "file_extension": ".py",
   "mimetype": "text/x-python",
   "name": "python",
   "nbconvert_exporter": "python",
   "pygments_lexer": "ipython3",
   "version": "3.9.6"
  }
 },
 "nbformat": 4,
 "nbformat_minor": 2
}
